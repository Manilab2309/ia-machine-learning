{
  "nbformat": 4,
  "nbformat_minor": 0,
  "metadata": {
    "colab": {
      "provenance": [],
      "include_colab_link": true
    },
    "kernelspec": {
      "name": "python3",
      "display_name": "Python 3"
    },
    "language_info": {
      "name": "python"
    }
  },
  "cells": [
    {
      "cell_type": "markdown",
      "metadata": {
        "id": "view-in-github",
        "colab_type": "text"
      },
      "source": [
        "<a href=\"https://colab.research.google.com/github/Manilab2309/ia-machine-learning/blob/main/lab/NB_analyst_broker_operations.ipynb\" target=\"_parent\"><img src=\"https://colab.research.google.com/assets/colab-badge.svg\" alt=\"Open In Colab\"/></a>"
      ]
    },
    {
      "cell_type": "code",
      "execution_count": 4,
      "metadata": {
        "colab": {
          "base_uri": "https://localhost:8080/"
        },
        "id": "c3TkIlVS6yok",
        "outputId": "a2a7a6ed-3e26-4b51-92ff-22ff592e82b7"
      },
      "outputs": [
        {
          "output_type": "stream",
          "name": "stdout",
          "text": [
            "Welcome aboard! Ramon\n"
          ]
        }
      ],
      "source": [
        "print(\"Welcome aboard! Ramon\")"
      ]
    },
    {
      "cell_type": "code",
      "source": [
        "print(1+1)\n",
        "\n",
        "res = 1+1\n",
        "print(res+1)"
      ],
      "metadata": {
        "id": "oA6rPg12-Bhp",
        "outputId": "0d8dc4e6-331a-4cb9-ff73-36b3dc2a05a6",
        "colab": {
          "base_uri": "https://localhost:8080/"
        }
      },
      "execution_count": 5,
      "outputs": [
        {
          "output_type": "stream",
          "name": "stdout",
          "text": [
            "2\n",
            "3\n"
          ]
        }
      ]
    },
    {
      "cell_type": "code",
      "source": [
        "print (\"Ya puedes empezar!\")"
      ],
      "metadata": {
        "id": "CzKoHaEwANC9",
        "outputId": "4180771a-8876-4517-8968-87b46a910bb8",
        "colab": {
          "base_uri": "https://localhost:8080/"
        }
      },
      "execution_count": 6,
      "outputs": [
        {
          "output_type": "stream",
          "name": "stdout",
          "text": [
            "Ya puedes empezar!\n"
          ]
        }
      ]
    }
  ]
}