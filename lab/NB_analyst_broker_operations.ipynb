{
  "cells": [
    {
      "cell_type": "markdown",
      "metadata": {
        "colab_type": "text",
        "id": "view-in-github"
      },
      "source": [
        "<a href=\"https://colab.research.google.com/github/Manilab2309/ia-machine-learning/blob/main/lab/NB_analyst_broker_operations.ipynb\" target=\"_parent\"><img src=\"https://colab.research.google.com/assets/colab-badge.svg\" alt=\"Open In Colab\"/></a>"
      ]
    },
    {
      "cell_type": "code",
      "execution_count": 234,
      "metadata": {
        "colab": {
          "base_uri": "https://localhost:8080/"
        },
        "id": "c3TkIlVS6yok",
        "outputId": "7709fa93-3d45-49a8-eb3e-13a51eaacd88"
      },
      "outputs": [
        {
          "name": "stdout",
          "output_type": "stream",
          "text": [
            "Welcome aboard! Ramon!, now you're working on Jupyter & Visual Studio Code\n"
          ]
        }
      ],
      "source": [
        "print(\"Welcome aboard! Ramon!, now you're working on Jupyter & Visual Studio Code\")"
      ]
    },
    {
      "cell_type": "markdown",
      "metadata": {
        "id": "nK9gwzlvNnIU"
      },
      "source": [
        "# ***Inicialization***\n",
        "Global configuration"
      ]
    },
    {
      "cell_type": "code",
      "execution_count": 235,
      "metadata": {
        "id": "uHphg4TBNlRK"
      },
      "outputs": [],
      "source": [
        "# Import libraries\n",
        "import pandas as pd\n",
        "import datetime\n",
        "import calendar\n",
        "import math\n",
        "\n",
        "# Colab limits by default table size to 25 columns\n",
        "# from google.colab.data_table import DataTable\n",
        "# DataTable.max_columns = 100\n",
        "# pd.set_option('display.max_rows', None) Uncomment if you wish to see entire data table (not recommended)"
      ]
    },
    {
      "cell_type": "markdown",
      "metadata": {
        "id": "VqVIPzmo18PJ"
      },
      "source": [
        "# Data Loader\n",
        "Read sources:\n",
        "\n",
        "\n",
        "*   Ibex35\n",
        "*   IPC\n",
        "*   Euribor\n",
        "*   Gold\n",
        "*   Brent\n",
        "*   Dolar/Euro\n",
        "*   Mortality EU\n",
        "\n"
      ]
    },
    {
      "cell_type": "markdown",
      "metadata": {
        "id": "fjwDX4Uly7tc"
      },
      "source": [
        "## Read Ibex35 2023\n",
        "Read from Github.com Ibex35 2023\n",
        "\n",
        "Source: https://es.finance.yahoo.com/quote/%5EIBEX/history"
      ]
    },
    {
      "cell_type": "code",
      "execution_count": 236,
      "metadata": {
        "id": "FqJaIfiozJHn"
      },
      "outputs": [],
      "source": [
        "df_ibex_2023 = pd.read_csv('https://raw.githubusercontent.com/Manilab2309/ia-machine-learning/main/samples/ibex35_2023.csv')"
      ]
    },
    {
      "cell_type": "markdown",
      "metadata": {
        "id": "GReiHJ7IzRJ6"
      },
      "source": [
        "## Read IPC 2023\n",
        "Read from Github.com IPC 2023 in this example we added two interesting clauses\n",
        " - on_bad_lines='skip' --> Very useful to force read csv files\n",
        " - sep = ';'           --> To customize char delimiter, by default is , When you get csv from excel, its set ; as delimiter then conflicts with panda parser.\n",
        "\n",
        "Source: https://www.ine.es/prensa/ipc_tabla.htm"
      ]
    },
    {
      "cell_type": "code",
      "execution_count": 237,
      "metadata": {
        "id": "GTvoPOPOzRAd"
      },
      "outputs": [],
      "source": [
        "df_ipc_2023 = pd.read_csv('https://raw.githubusercontent.com/Manilab2309/ia-machine-learning/main/samples/IPC-2023.csv', on_bad_lines='skip', sep = ';')"
      ]
    },
    {
      "cell_type": "markdown",
      "metadata": {
        "id": "GHwgqv0YzQ41"
      },
      "source": [
        "## Read Euribor 2023\n",
        "Read from Github.com Euribor 2023\n",
        "\n",
        "Source: https://datosmacro.expansion.com/hipotecas/euribor?dr=2024-01"
      ]
    },
    {
      "cell_type": "code",
      "execution_count": 238,
      "metadata": {
        "id": "GpaBL5OwzQuj"
      },
      "outputs": [],
      "source": [
        "df_euribor_2023 = pd.read_csv('https://raw.githubusercontent.com/Manilab2309/ia-machine-learning/main/samples/Euribor-2023.csv', on_bad_lines='skip', sep = ';')"
      ]
    },
    {
      "cell_type": "markdown",
      "metadata": {
        "id": "99SWOGIczQkT"
      },
      "source": [
        "## Read Gold 2023\n",
        "Read from Github.com Oro 2023\n",
        "\n",
        "Source: https://es.finance.yahoo.com/quote/GC%3DF/history\n"
      ]
    },
    {
      "cell_type": "code",
      "execution_count": 239,
      "metadata": {
        "id": "KaaHxCuSzQaC"
      },
      "outputs": [],
      "source": [
        "df_gold_2023 = pd.read_csv('https://raw.githubusercontent.com/Manilab2309/ia-machine-learning/main/samples/Oro-2023.csv', on_bad_lines='skip', sep = ';')"
      ]
    },
    {
      "cell_type": "markdown",
      "metadata": {
        "id": "CRdHaafdzQPz"
      },
      "source": [
        "## Read Brent 2023\n",
        "Read from Github.com Petroleo 2023\n",
        "Source: https://es.finance.yahoo.com/quote/BZ%3DF/history\n"
      ]
    },
    {
      "cell_type": "code",
      "execution_count": 240,
      "metadata": {
        "id": "HMGGtDSjzQGF"
      },
      "outputs": [],
      "source": [
        "df_brent_2023 = pd.read_csv('https://raw.githubusercontent.com/Manilab2309/ia-machine-learning/main/samples/Brent-2023.csv', on_bad_lines='skip', sep = ';')"
      ]
    },
    {
      "cell_type": "markdown",
      "metadata": {
        "id": "Zi_42P4hzP5V"
      },
      "source": [
        "## Read Dolar/Euro 2023\n",
        "Read from Github.com $/Euro 2023\n",
        "\n",
        "Source: https://es.finance.yahoo.com/quote/EURUSD%3DX/history"
      ]
    },
    {
      "cell_type": "code",
      "execution_count": 241,
      "metadata": {
        "id": "y4_qXw35zPq4"
      },
      "outputs": [],
      "source": [
        "df_dolar_euro_2023 = pd.read_csv('https://raw.githubusercontent.com/Manilab2309/ia-machine-learning/main/samples/Dolar-Euro-2023.csv', on_bad_lines='skip', sep = ';')"
      ]
    },
    {
      "cell_type": "markdown",
      "metadata": {
        "id": "w1zLk4sHzPQQ"
      },
      "source": [
        "## Excess mortality by month Euro 2023\n",
        "Read from Github.com Mortality European\n",
        "\n",
        "Source: https://ec.europa.eu/eurostat/databrowser/view/demo_mexrt/default/table?lang=en"
      ]
    },
    {
      "cell_type": "code",
      "execution_count": 242,
      "metadata": {
        "id": "xLyUKLUL06HT"
      },
      "outputs": [],
      "source": [
        "df_excess_mortality_2023 = pd.read_csv('https://raw.githubusercontent.com/Manilab2309/ia-machine-learning/main/samples/Excess_mortality_by_month_2023.csv', on_bad_lines='skip', sep = ',')"
      ]
    },
    {
      "cell_type": "markdown",
      "metadata": {},
      "source": [
        "# Data Formatter\n",
        "\n",
        " Global considerations:\n",
        " - Rename columns to be more specific\n",
        " - Floats will have . as separator decimal position\n",
        " - Floats will have only 2 decimal positions\n",
        " - Dates will have this format: 2023-01-02"
      ]
    },
    {
      "cell_type": "markdown",
      "metadata": {},
      "source": [
        "## Formatter Ibex35 2023\n",
        "\n",
        "Ibex35 csv source needs these format actions:\n",
        "\n",
        "- Rename columns\n",
        "- Set . as decimal separator token\n",
        "- set 2 float positions\n",
        "- Convert object to float64"
      ]
    },
    {
      "cell_type": "code",
      "execution_count": 243,
      "metadata": {},
      "outputs": [
        {
          "data": {
            "text/html": [
              "<div>\n",
              "<style scoped>\n",
              "    .dataframe tbody tr th:only-of-type {\n",
              "        vertical-align: middle;\n",
              "    }\n",
              "\n",
              "    .dataframe tbody tr th {\n",
              "        vertical-align: top;\n",
              "    }\n",
              "\n",
              "    .dataframe thead th {\n",
              "        text-align: right;\n",
              "    }\n",
              "</style>\n",
              "<table border=\"1\" class=\"dataframe\">\n",
              "  <thead>\n",
              "    <tr style=\"text-align: right;\">\n",
              "      <th></th>\n",
              "      <th>Date</th>\n",
              "      <th>Open</th>\n",
              "      <th>High</th>\n",
              "      <th>Low</th>\n",
              "      <th>Close</th>\n",
              "      <th>Adj Close</th>\n",
              "      <th>Volume</th>\n",
              "    </tr>\n",
              "  </thead>\n",
              "  <tbody>\n",
              "    <tr>\n",
              "      <th>0</th>\n",
              "      <td>2023-01-02</td>\n",
              "      <td>8297.90</td>\n",
              "      <td>8384.90</td>\n",
              "      <td>8283.70</td>\n",
              "      <td>8369.70</td>\n",
              "      <td>8369.70</td>\n",
              "      <td>92193500</td>\n",
              "    </tr>\n",
              "    <tr>\n",
              "      <th>1</th>\n",
              "      <td>2023-01-03</td>\n",
              "      <td>8367.50</td>\n",
              "      <td>8454.30</td>\n",
              "      <td>8327.40</td>\n",
              "      <td>8397.40</td>\n",
              "      <td>8397.40</td>\n",
              "      <td>164671600</td>\n",
              "    </tr>\n",
              "    <tr>\n",
              "      <th>2</th>\n",
              "      <td>2023-01-04</td>\n",
              "      <td>8442.10</td>\n",
              "      <td>8560.50</td>\n",
              "      <td>8442.10</td>\n",
              "      <td>8559.80</td>\n",
              "      <td>8559.80</td>\n",
              "      <td>206752400</td>\n",
              "    </tr>\n",
              "    <tr>\n",
              "      <th>3</th>\n",
              "      <td>2023-01-05</td>\n",
              "      <td>8530.10</td>\n",
              "      <td>8618.90</td>\n",
              "      <td>8527.70</td>\n",
              "      <td>8607.60</td>\n",
              "      <td>8607.60</td>\n",
              "      <td>182438200</td>\n",
              "    </tr>\n",
              "    <tr>\n",
              "      <th>4</th>\n",
              "      <td>2023-01-06</td>\n",
              "      <td>8608.50</td>\n",
              "      <td>8701.10</td>\n",
              "      <td>8589.20</td>\n",
              "      <td>8701.10</td>\n",
              "      <td>8701.10</td>\n",
              "      <td>162161400</td>\n",
              "    </tr>\n",
              "  </tbody>\n",
              "</table>\n",
              "</div>"
            ],
            "text/plain": [
              "         Date    Open    High     Low   Close  Adj Close     Volume\n",
              "0  2023-01-02 8297.90 8384.90 8283.70 8369.70    8369.70   92193500\n",
              "1  2023-01-03 8367.50 8454.30 8327.40 8397.40    8397.40  164671600\n",
              "2  2023-01-04 8442.10 8560.50 8442.10 8559.80    8559.80  206752400\n",
              "3  2023-01-05 8530.10 8618.90 8527.70 8607.60    8607.60  182438200\n",
              "4  2023-01-06 8608.50 8701.10 8589.20 8701.10    8701.10  162161400"
            ]
          },
          "execution_count": 243,
          "metadata": {},
          "output_type": "execute_result"
        }
      ],
      "source": [
        "# Actual situation\n",
        "df_ibex_2023.head()"
      ]
    },
    {
      "cell_type": "code",
      "execution_count": 244,
      "metadata": {},
      "outputs": [
        {
          "data": {
            "text/plain": [
              "Date          object\n",
              "Open         float64\n",
              "High         float64\n",
              "Low          float64\n",
              "Close        float64\n",
              "Adj Close    float64\n",
              "Volume         int64\n",
              "dtype: object"
            ]
          },
          "execution_count": 244,
          "metadata": {},
          "output_type": "execute_result"
        }
      ],
      "source": [
        "# Actual datatypes\n",
        "df_ibex_2023.dtypes"
      ]
    },
    {
      "cell_type": "code",
      "execution_count": 245,
      "metadata": {},
      "outputs": [
        {
          "data": {
            "text/html": [
              "<pre>&lt;class 'pandas.core.frame.DataFrame'&gt;\n",
              "RangeIndex: 255 entries, 0 to 254\n",
              "Data columns (total 7 columns):\n",
              " #   Column          Non-Null Count  Dtype  \n",
              "---  ------          --------------  -----  \n",
              " 0   Date            255 non-null    object \n",
              " 1   Ibex Open       255 non-null    float64\n",
              " 2   Ibex High       255 non-null    float64\n",
              " 3   Ibex Low        255 non-null    float64\n",
              " 4   Ibex Close      255 non-null    float64\n",
              " 5   Ibex Adj Close  255 non-null    float64\n",
              " 6   Ibex Volume     255 non-null    int64  \n",
              "dtypes: float64(5), int64(1), object(1)\n",
              "memory usage: 14.1+ KB\n",
              "</pre>"
            ],
            "text/plain": [
              "<class 'pandas.core.frame.DataFrame'>\n",
              "RangeIndex: 255 entries, 0 to 254\n",
              "Data columns (total 7 columns):\n",
              " #   Column          Non-Null Count  Dtype  \n",
              "---  ------          --------------  -----  \n",
              " 0   Date            255 non-null    object \n",
              " 1   Ibex Open       255 non-null    float64\n",
              " 2   Ibex High       255 non-null    float64\n",
              " 3   Ibex Low        255 non-null    float64\n",
              " 4   Ibex Close      255 non-null    float64\n",
              " 5   Ibex Adj Close  255 non-null    float64\n",
              " 6   Ibex Volume     255 non-null    int64  \n",
              "dtypes: float64(5), int64(1), object(1)\n",
              "memory usage: 14.1+ KB"
            ]
          },
          "execution_count": 245,
          "metadata": {},
          "output_type": "execute_result"
        }
      ],
      "source": [
        "# Rename columns for later merge with other tables with similar named columns\n",
        "df_ibex_2023 = df_ibex_2023.rename(columns={'Fecha': 'Date', 'Open': 'Ibex Open','High': 'Ibex High','Low': 'Ibex Low','Close': 'Ibex Close','Adj Close': 'Ibex Adj Close','Volume': 'Ibex Volume'})\n",
        "df_ibex_2023"
      ]
    },
    {
      "cell_type": "code",
      "execution_count": 246,
      "metadata": {},
      "outputs": [
        {
          "data": {
            "text/html": [
              "<pre>&lt;class 'pandas.core.frame.DataFrame'&gt;\n",
              "RangeIndex: 255 entries, 0 to 254\n",
              "Data columns (total 7 columns):\n",
              " #   Column          Non-Null Count  Dtype  \n",
              "---  ------          --------------  -----  \n",
              " 0   Date            255 non-null    object \n",
              " 1   Ibex Open       255 non-null    float64\n",
              " 2   Ibex High       255 non-null    float64\n",
              " 3   Ibex Low        255 non-null    float64\n",
              " 4   Ibex Close      255 non-null    float64\n",
              " 5   Ibex Adj Close  255 non-null    float64\n",
              " 6   Ibex Volume     255 non-null    int64  \n",
              "dtypes: float64(5), int64(1), object(1)\n",
              "memory usage: 14.1+ KB\n",
              "</pre>"
            ],
            "text/plain": [
              "<class 'pandas.core.frame.DataFrame'>\n",
              "RangeIndex: 255 entries, 0 to 254\n",
              "Data columns (total 7 columns):\n",
              " #   Column          Non-Null Count  Dtype  \n",
              "---  ------          --------------  -----  \n",
              " 0   Date            255 non-null    object \n",
              " 1   Ibex Open       255 non-null    float64\n",
              " 2   Ibex High       255 non-null    float64\n",
              " 3   Ibex Low        255 non-null    float64\n",
              " 4   Ibex Close      255 non-null    float64\n",
              " 5   Ibex Adj Close  255 non-null    float64\n",
              " 6   Ibex Volume     255 non-null    int64  \n",
              "dtypes: float64(5), int64(1), object(1)\n",
              "memory usage: 14.1+ KB"
            ]
          },
          "execution_count": 246,
          "metadata": {},
          "output_type": "execute_result"
        }
      ],
      "source": [
        "# 8297.900391 (float64) --> 8297.90 (float64) We only need 2 decimal positions and . with decimal separator token char\n",
        "pd.options.display.float_format = '{:.2f}'.format\n",
        "df_ibex_2023"
      ]
    },
    {
      "cell_type": "markdown",
      "metadata": {},
      "source": [
        "## Formatter IPC 2023\n",
        "\n",
        "IPC csv needs these format corrections:\n",
        "- Rename columns\n",
        "- Delete % char\n",
        "- set . as decimal token delimiter\n",
        "- set 2 float positions\n",
        "- Dates: dec-23 --> 2023-12-01 (for getting this, we will need an expansion table)\n"
      ]
    },
    {
      "cell_type": "code",
      "execution_count": 247,
      "metadata": {},
      "outputs": [
        {
          "data": {
            "text/html": [
              "<div>\n",
              "<style scoped>\n",
              "    .dataframe tbody tr th:only-of-type {\n",
              "        vertical-align: middle;\n",
              "    }\n",
              "\n",
              "    .dataframe tbody tr th {\n",
              "        vertical-align: top;\n",
              "    }\n",
              "\n",
              "    .dataframe thead th {\n",
              "        text-align: right;\n",
              "    }\n",
              "</style>\n",
              "<table border=\"1\" class=\"dataframe\">\n",
              "  <thead>\n",
              "    <tr style=\"text-align: right;\">\n",
              "      <th></th>\n",
              "      <th>Mes IPC</th>\n",
              "      <th>IPC Interanual</th>\n",
              "      <th>IPC Acum Enero</th>\n",
              "      <th>IPC Variacion Mensual</th>\n",
              "    </tr>\n",
              "  </thead>\n",
              "  <tbody>\n",
              "    <tr>\n",
              "      <th>0</th>\n",
              "      <td>dec-23</td>\n",
              "      <td>3,10%</td>\n",
              "      <td>3,10%</td>\n",
              "      <td>0%</td>\n",
              "    </tr>\n",
              "    <tr>\n",
              "      <th>1</th>\n",
              "      <td>nov-23</td>\n",
              "      <td>3,20%</td>\n",
              "      <td>3,10%</td>\n",
              "      <td>-0,30%</td>\n",
              "    </tr>\n",
              "    <tr>\n",
              "      <th>2</th>\n",
              "      <td>oct-23</td>\n",
              "      <td>3,50%</td>\n",
              "      <td>3,40%</td>\n",
              "      <td>0,30%</td>\n",
              "    </tr>\n",
              "    <tr>\n",
              "      <th>3</th>\n",
              "      <td>sep-23</td>\n",
              "      <td>3,50%</td>\n",
              "      <td>3,10%</td>\n",
              "      <td>0,20%</td>\n",
              "    </tr>\n",
              "    <tr>\n",
              "      <th>4</th>\n",
              "      <td>aug-23</td>\n",
              "      <td>2,60%</td>\n",
              "      <td>3,00%</td>\n",
              "      <td>0,50%</td>\n",
              "    </tr>\n",
              "  </tbody>\n",
              "</table>\n",
              "</div>"
            ],
            "text/plain": [
              "  Mes IPC IPC Interanual IPC Acum Enero IPC Variacion Mensual\n",
              "0  dec-23          3,10%          3,10%                    0%\n",
              "1  nov-23          3,20%          3,10%                -0,30%\n",
              "2  oct-23          3,50%          3,40%                 0,30%\n",
              "3  sep-23          3,50%          3,10%                 0,20%\n",
              "4  aug-23          2,60%          3,00%                 0,50%"
            ]
          },
          "execution_count": 247,
          "metadata": {},
          "output_type": "execute_result"
        }
      ],
      "source": [
        "# Actual situation\n",
        "df_ipc_2023.head()"
      ]
    },
    {
      "cell_type": "code",
      "execution_count": 248,
      "metadata": {},
      "outputs": [
        {
          "data": {
            "text/plain": [
              "Mes IPC                  object\n",
              "IPC Interanual           object\n",
              "IPC Acum Enero           object\n",
              "IPC Variacion Mensual    object\n",
              "dtype: object"
            ]
          },
          "execution_count": 248,
          "metadata": {},
          "output_type": "execute_result"
        }
      ],
      "source": [
        "# Actual datatypes\n",
        "df_ipc_2023.dtypes"
      ]
    },
    {
      "cell_type": "code",
      "execution_count": 249,
      "metadata": {},
      "outputs": [
        {
          "data": {
            "text/html": [
              "<div>\n",
              "<style scoped>\n",
              "    .dataframe tbody tr th:only-of-type {\n",
              "        vertical-align: middle;\n",
              "    }\n",
              "\n",
              "    .dataframe tbody tr th {\n",
              "        vertical-align: top;\n",
              "    }\n",
              "\n",
              "    .dataframe thead th {\n",
              "        text-align: right;\n",
              "    }\n",
              "</style>\n",
              "<table border=\"1\" class=\"dataframe\">\n",
              "  <thead>\n",
              "    <tr style=\"text-align: right;\">\n",
              "      <th></th>\n",
              "      <th>Date</th>\n",
              "      <th>IPC Interanual %</th>\n",
              "      <th>IPC Acum Jan %</th>\n",
              "      <th>IPC Month Variation %</th>\n",
              "    </tr>\n",
              "  </thead>\n",
              "  <tbody>\n",
              "    <tr>\n",
              "      <th>0</th>\n",
              "      <td>dec-23</td>\n",
              "      <td>3,10%</td>\n",
              "      <td>3,10%</td>\n",
              "      <td>0%</td>\n",
              "    </tr>\n",
              "    <tr>\n",
              "      <th>1</th>\n",
              "      <td>nov-23</td>\n",
              "      <td>3,20%</td>\n",
              "      <td>3,10%</td>\n",
              "      <td>-0,30%</td>\n",
              "    </tr>\n",
              "    <tr>\n",
              "      <th>2</th>\n",
              "      <td>oct-23</td>\n",
              "      <td>3,50%</td>\n",
              "      <td>3,40%</td>\n",
              "      <td>0,30%</td>\n",
              "    </tr>\n",
              "    <tr>\n",
              "      <th>3</th>\n",
              "      <td>sep-23</td>\n",
              "      <td>3,50%</td>\n",
              "      <td>3,10%</td>\n",
              "      <td>0,20%</td>\n",
              "    </tr>\n",
              "    <tr>\n",
              "      <th>4</th>\n",
              "      <td>aug-23</td>\n",
              "      <td>2,60%</td>\n",
              "      <td>3,00%</td>\n",
              "      <td>0,50%</td>\n",
              "    </tr>\n",
              "  </tbody>\n",
              "</table>\n",
              "</div>"
            ],
            "text/plain": [
              "     Date IPC Interanual % IPC Acum Jan % IPC Month Variation %\n",
              "0  dec-23            3,10%          3,10%                    0%\n",
              "1  nov-23            3,20%          3,10%                -0,30%\n",
              "2  oct-23            3,50%          3,40%                 0,30%\n",
              "3  sep-23            3,50%          3,10%                 0,20%\n",
              "4  aug-23            2,60%          3,00%                 0,50%"
            ]
          },
          "execution_count": 249,
          "metadata": {},
          "output_type": "execute_result"
        }
      ],
      "source": [
        "# Rename column if you need\n",
        "# Documentation: https://pandas.pydata.org/docs/reference/api/pandas.DataFrame.html\n",
        "\n",
        "#In this example, lets translate headers to english and add % simbol, remember cells must be desired numbers or float format\n",
        "df_ipc_2023 = df_ipc_2023.rename(columns={'Mes IPC': 'Date'})\n",
        "df_ipc_2023 = df_ipc_2023.rename(columns={'IPC Interanual': 'IPC Interanual %'})\n",
        "df_ipc_2023 = df_ipc_2023.rename(columns={'IPC Acum Enero': 'IPC Acum Jan %'})\n",
        "df_ipc_2023 = df_ipc_2023.rename(columns={'IPC Variacion Mensual': 'IPC Month Variation %'})\n",
        "\n",
        "# We can define variables to use in another cells\n",
        "column_A_Renamed = 'Date'\n",
        "column_B_Renamed = 'IPC Interanual %'\n",
        "column_C_Renamed = 'IPC Acum Jan %'\n",
        "column_D_Renamed = 'IPC Month Variation %'\n",
        "\n",
        "df_ipc_2023.head()"
      ]
    },
    {
      "cell_type": "code",
      "execution_count": 250,
      "metadata": {},
      "outputs": [
        {
          "data": {
            "text/html": [
              "<div>\n",
              "<style scoped>\n",
              "    .dataframe tbody tr th:only-of-type {\n",
              "        vertical-align: middle;\n",
              "    }\n",
              "\n",
              "    .dataframe tbody tr th {\n",
              "        vertical-align: top;\n",
              "    }\n",
              "\n",
              "    .dataframe thead th {\n",
              "        text-align: right;\n",
              "    }\n",
              "</style>\n",
              "<table border=\"1\" class=\"dataframe\">\n",
              "  <thead>\n",
              "    <tr style=\"text-align: right;\">\n",
              "      <th></th>\n",
              "      <th>Date</th>\n",
              "      <th>IPC Interanual %</th>\n",
              "      <th>IPC Acum Jan %</th>\n",
              "      <th>IPC Month Variation %</th>\n",
              "    </tr>\n",
              "  </thead>\n",
              "  <tbody>\n",
              "    <tr>\n",
              "      <th>0</th>\n",
              "      <td>dec-23</td>\n",
              "      <td>3,10</td>\n",
              "      <td>3,10</td>\n",
              "      <td>0</td>\n",
              "    </tr>\n",
              "    <tr>\n",
              "      <th>1</th>\n",
              "      <td>nov-23</td>\n",
              "      <td>3,20</td>\n",
              "      <td>3,10</td>\n",
              "      <td>-0,30</td>\n",
              "    </tr>\n",
              "    <tr>\n",
              "      <th>2</th>\n",
              "      <td>oct-23</td>\n",
              "      <td>3,50</td>\n",
              "      <td>3,40</td>\n",
              "      <td>0,30</td>\n",
              "    </tr>\n",
              "    <tr>\n",
              "      <th>3</th>\n",
              "      <td>sep-23</td>\n",
              "      <td>3,50</td>\n",
              "      <td>3,10</td>\n",
              "      <td>0,20</td>\n",
              "    </tr>\n",
              "    <tr>\n",
              "      <th>4</th>\n",
              "      <td>aug-23</td>\n",
              "      <td>2,60</td>\n",
              "      <td>3,00</td>\n",
              "      <td>0,50</td>\n",
              "    </tr>\n",
              "  </tbody>\n",
              "</table>\n",
              "</div>"
            ],
            "text/plain": [
              "     Date IPC Interanual % IPC Acum Jan % IPC Month Variation %\n",
              "0  dec-23             3,10           3,10                     0\n",
              "1  nov-23             3,20           3,10                 -0,30\n",
              "2  oct-23             3,50           3,40                  0,30\n",
              "3  sep-23             3,50           3,10                  0,20\n",
              "4  aug-23             2,60           3,00                  0,50"
            ]
          },
          "execution_count": 250,
          "metadata": {},
          "output_type": "execute_result"
        }
      ],
      "source": [
        "# Remove % char from cells\n",
        "df_ipc_2023[column_B_Renamed] = df_ipc_2023[column_B_Renamed].str.replace(\"%\", \"\")\n",
        "df_ipc_2023[column_C_Renamed] = df_ipc_2023[column_C_Renamed].str.replace(\"%\", \"\")\n",
        "df_ipc_2023[column_D_Renamed] = df_ipc_2023[column_D_Renamed].str.replace(\"%\", \"\")\n",
        "\n",
        "df_ipc_2023.head()"
      ]
    },
    {
      "cell_type": "code",
      "execution_count": 251,
      "metadata": {},
      "outputs": [
        {
          "data": {
            "text/html": [
              "<div>\n",
              "<style scoped>\n",
              "    .dataframe tbody tr th:only-of-type {\n",
              "        vertical-align: middle;\n",
              "    }\n",
              "\n",
              "    .dataframe tbody tr th {\n",
              "        vertical-align: top;\n",
              "    }\n",
              "\n",
              "    .dataframe thead th {\n",
              "        text-align: right;\n",
              "    }\n",
              "</style>\n",
              "<table border=\"1\" class=\"dataframe\">\n",
              "  <thead>\n",
              "    <tr style=\"text-align: right;\">\n",
              "      <th></th>\n",
              "      <th>Date</th>\n",
              "      <th>IPC Interanual %</th>\n",
              "      <th>IPC Acum Jan %</th>\n",
              "      <th>IPC Month Variation %</th>\n",
              "    </tr>\n",
              "  </thead>\n",
              "  <tbody>\n",
              "    <tr>\n",
              "      <th>0</th>\n",
              "      <td>dec-23</td>\n",
              "      <td>3.10</td>\n",
              "      <td>3.10</td>\n",
              "      <td>0</td>\n",
              "    </tr>\n",
              "    <tr>\n",
              "      <th>1</th>\n",
              "      <td>nov-23</td>\n",
              "      <td>3.20</td>\n",
              "      <td>3.10</td>\n",
              "      <td>-0.30</td>\n",
              "    </tr>\n",
              "    <tr>\n",
              "      <th>2</th>\n",
              "      <td>oct-23</td>\n",
              "      <td>3.50</td>\n",
              "      <td>3.40</td>\n",
              "      <td>0.30</td>\n",
              "    </tr>\n",
              "    <tr>\n",
              "      <th>3</th>\n",
              "      <td>sep-23</td>\n",
              "      <td>3.50</td>\n",
              "      <td>3.10</td>\n",
              "      <td>0.20</td>\n",
              "    </tr>\n",
              "    <tr>\n",
              "      <th>4</th>\n",
              "      <td>aug-23</td>\n",
              "      <td>2.60</td>\n",
              "      <td>3.00</td>\n",
              "      <td>0.50</td>\n",
              "    </tr>\n",
              "  </tbody>\n",
              "</table>\n",
              "</div>"
            ],
            "text/plain": [
              "     Date IPC Interanual % IPC Acum Jan % IPC Month Variation %\n",
              "0  dec-23             3.10           3.10                     0\n",
              "1  nov-23             3.20           3.10                 -0.30\n",
              "2  oct-23             3.50           3.40                  0.30\n",
              "3  sep-23             3.50           3.10                  0.20\n",
              "4  aug-23             2.60           3.00                  0.50"
            ]
          },
          "execution_count": 251,
          "metadata": {},
          "output_type": "execute_result"
        }
      ],
      "source": [
        "# Convert , to . for decimal delimiter token\n",
        "df_ipc_2023[column_B_Renamed] = df_ipc_2023[column_B_Renamed].str.replace(\",\", \".\")\n",
        "df_ipc_2023[column_C_Renamed] = df_ipc_2023[column_C_Renamed].str.replace(\",\", \".\")\n",
        "df_ipc_2023[column_D_Renamed] = df_ipc_2023[column_D_Renamed].str.replace(\",\", \".\")\n",
        "df_ipc_2023.head()"
      ]
    },
    {
      "cell_type": "code",
      "execution_count": 252,
      "metadata": {},
      "outputs": [
        {
          "data": {
            "text/plain": [
              "Date                      object\n",
              "IPC Interanual %         float64\n",
              "IPC Acum Jan %           float64\n",
              "IPC Month Variation %    float64\n",
              "dtype: object"
            ]
          },
          "execution_count": 252,
          "metadata": {},
          "output_type": "execute_result"
        }
      ],
      "source": [
        "# Convert object to float\n",
        "df_ipc_2023[column_B_Renamed] = df_ipc_2023[column_B_Renamed].astype('float64')\n",
        "df_ipc_2023[column_C_Renamed] = df_ipc_2023[column_C_Renamed].astype('float64')\n",
        "df_ipc_2023[column_D_Renamed] = df_ipc_2023[column_D_Renamed].astype('float64')\n",
        "df_ipc_2023.dtypes"
      ]
    },
    {
      "cell_type": "code",
      "execution_count": 253,
      "metadata": {},
      "outputs": [
        {
          "data": {
            "text/html": [
              "<div>\n",
              "<style scoped>\n",
              "    .dataframe tbody tr th:only-of-type {\n",
              "        vertical-align: middle;\n",
              "    }\n",
              "\n",
              "    .dataframe tbody tr th {\n",
              "        vertical-align: top;\n",
              "    }\n",
              "\n",
              "    .dataframe thead th {\n",
              "        text-align: right;\n",
              "    }\n",
              "</style>\n",
              "<table border=\"1\" class=\"dataframe\">\n",
              "  <thead>\n",
              "    <tr style=\"text-align: right;\">\n",
              "      <th></th>\n",
              "      <th>Date</th>\n",
              "      <th>IPC Interanual %</th>\n",
              "      <th>IPC Acum Jan %</th>\n",
              "      <th>IPC Month Variation %</th>\n",
              "    </tr>\n",
              "  </thead>\n",
              "  <tbody>\n",
              "    <tr>\n",
              "      <th>0</th>\n",
              "      <td>2023-12-01</td>\n",
              "      <td>3.10</td>\n",
              "      <td>3.10</td>\n",
              "      <td>0.00</td>\n",
              "    </tr>\n",
              "    <tr>\n",
              "      <th>1</th>\n",
              "      <td>2023-11-01</td>\n",
              "      <td>3.20</td>\n",
              "      <td>3.10</td>\n",
              "      <td>-0.30</td>\n",
              "    </tr>\n",
              "    <tr>\n",
              "      <th>2</th>\n",
              "      <td>2023-10-01</td>\n",
              "      <td>3.50</td>\n",
              "      <td>3.40</td>\n",
              "      <td>0.30</td>\n",
              "    </tr>\n",
              "    <tr>\n",
              "      <th>3</th>\n",
              "      <td>2023-09-01</td>\n",
              "      <td>3.50</td>\n",
              "      <td>3.10</td>\n",
              "      <td>0.20</td>\n",
              "    </tr>\n",
              "    <tr>\n",
              "      <th>4</th>\n",
              "      <td>2023-08-01</td>\n",
              "      <td>2.60</td>\n",
              "      <td>3.00</td>\n",
              "      <td>0.50</td>\n",
              "    </tr>\n",
              "    <tr>\n",
              "      <th>5</th>\n",
              "      <td>2023-07-01</td>\n",
              "      <td>2.30</td>\n",
              "      <td>2.40</td>\n",
              "      <td>0.20</td>\n",
              "    </tr>\n",
              "    <tr>\n",
              "      <th>6</th>\n",
              "      <td>2023-06-01</td>\n",
              "      <td>1.90</td>\n",
              "      <td>2.20</td>\n",
              "      <td>0.60</td>\n",
              "    </tr>\n",
              "    <tr>\n",
              "      <th>7</th>\n",
              "      <td>2023-05-01</td>\n",
              "      <td>3.20</td>\n",
              "      <td>1.70</td>\n",
              "      <td>0.00</td>\n",
              "    </tr>\n",
              "    <tr>\n",
              "      <th>8</th>\n",
              "      <td>2023-04-01</td>\n",
              "      <td>4.10</td>\n",
              "      <td>1.70</td>\n",
              "      <td>0.60</td>\n",
              "    </tr>\n",
              "    <tr>\n",
              "      <th>9</th>\n",
              "      <td>2023-03-01</td>\n",
              "      <td>3.30</td>\n",
              "      <td>1.10</td>\n",
              "      <td>0.40</td>\n",
              "    </tr>\n",
              "    <tr>\n",
              "      <th>10</th>\n",
              "      <td>2023-02-01</td>\n",
              "      <td>6.00</td>\n",
              "      <td>0.70</td>\n",
              "      <td>0.90</td>\n",
              "    </tr>\n",
              "    <tr>\n",
              "      <th>11</th>\n",
              "      <td>2023-01-01</td>\n",
              "      <td>5.90</td>\n",
              "      <td>-0.20</td>\n",
              "      <td>-0.20</td>\n",
              "    </tr>\n",
              "  </tbody>\n",
              "</table>\n",
              "</div>"
            ],
            "text/plain": [
              "          Date  IPC Interanual %  IPC Acum Jan %  IPC Month Variation %\n",
              "0   2023-12-01              3.10            3.10                   0.00\n",
              "1   2023-11-01              3.20            3.10                  -0.30\n",
              "2   2023-10-01              3.50            3.40                   0.30\n",
              "3   2023-09-01              3.50            3.10                   0.20\n",
              "4   2023-08-01              2.60            3.00                   0.50\n",
              "5   2023-07-01              2.30            2.40                   0.20\n",
              "6   2023-06-01              1.90            2.20                   0.60\n",
              "7   2023-05-01              3.20            1.70                   0.00\n",
              "8   2023-04-01              4.10            1.70                   0.60\n",
              "9   2023-03-01              3.30            1.10                   0.40\n",
              "10  2023-02-01              6.00            0.70                   0.90\n",
              "11  2023-01-01              5.90           -0.20                  -0.20"
            ]
          },
          "execution_count": 253,
          "metadata": {},
          "output_type": "execute_result"
        }
      ],
      "source": [
        "# We need to transform the dates from: dic-23 to 2023-12-01, then we will have an aproximation to standard date time zones\n",
        "# Documentation: https://strftime.org/\n",
        "# Utils: https://strftime.net/\n",
        "\n",
        "df_ipc_2023['Date'] = pd.to_datetime(df_ipc_2023['Date'],format='%b-%y').dt.strftime('%Y-%m-%d')\n",
        "df_ipc_2023"
      ]
    },
    {
      "cell_type": "code",
      "execution_count": 254,
      "metadata": {},
      "outputs": [
        {
          "data": {
            "text/html": [
              "<pre>&lt;class 'pandas.core.frame.DataFrame'&gt;\n",
              "Index: 365 entries, 0 to 364\n",
              "Data columns (total 4 columns):\n",
              " #   Column                 Non-Null Count  Dtype  \n",
              "---  ------                 --------------  -----  \n",
              " 0   Date                   365 non-null    object \n",
              " 1   IPC Interanual %       365 non-null    float64\n",
              " 2   IPC Acum Jan %         365 non-null    float64\n",
              " 3   IPC Month Variation %  365 non-null    float64\n",
              "dtypes: float64(3), object(1)\n",
              "memory usage: 14.3+ KB\n",
              "</pre>"
            ],
            "text/plain": [
              "<class 'pandas.core.frame.DataFrame'>\n",
              "Index: 365 entries, 0 to 364\n",
              "Data columns (total 4 columns):\n",
              " #   Column                 Non-Null Count  Dtype  \n",
              "---  ------                 --------------  -----  \n",
              " 0   Date                   365 non-null    object \n",
              " 1   IPC Interanual %       365 non-null    float64\n",
              " 2   IPC Acum Jan %         365 non-null    float64\n",
              " 3   IPC Month Variation %  365 non-null    float64\n",
              "dtypes: float64(3), object(1)\n",
              "memory usage: 14.3+ KB"
            ]
          },
          "execution_count": 254,
          "metadata": {},
          "output_type": "execute_result"
        }
      ],
      "source": [
        "# Now we need expand the table\n",
        "\n",
        "# Declare new Dataframe\n",
        "df_ipc_2023_expanded = pd.DataFrame()\n",
        "df_ipc_2023_expanded = pd.DataFrame(columns=[column_A_Renamed, column_B_Renamed, column_C_Renamed, column_D_Renamed])\n",
        "# Variables column_x_Renamed are initialized in previos cell execution\n",
        "\n",
        "for i in df_ipc_2023.index:\n",
        "\n",
        "    instantDate = datetime.datetime.strptime(df_ipc_2023[column_A_Renamed][i], '%Y-%m-%d')\n",
        "    year = instantDate.year\n",
        "    month = instantDate.month\n",
        "    num_days = calendar.monthrange(year, month)[1]\n",
        "    days = [datetime.date(year, month, day).strftime('%Y-%m-%d') for day in range(1, num_days+1)]\n",
        "\n",
        "    for d in days:\n",
        "      # Add values to new dataframe\n",
        "      df_ipc_2023_expanded.loc[len(df_ipc_2023_expanded.index)] = [d, df_ipc_2023[column_B_Renamed][i], df_ipc_2023[column_C_Renamed][i],df_ipc_2023[column_D_Renamed][i]]\n",
        "\n",
        "df_ipc_2023_expanded"
      ]
    },
    {
      "cell_type": "markdown",
      "metadata": {},
      "source": [
        "## Formatter Euribor 2023\n",
        "\n",
        "Euribor source needs following format actions:\n",
        "- Delete % char\n",
        "- Set . as decimal token separator\n",
        "- Convert object to float"
      ]
    },
    {
      "cell_type": "code",
      "execution_count": 255,
      "metadata": {},
      "outputs": [
        {
          "data": {
            "text/html": [
              "<div>\n",
              "<style scoped>\n",
              "    .dataframe tbody tr th:only-of-type {\n",
              "        vertical-align: middle;\n",
              "    }\n",
              "\n",
              "    .dataframe tbody tr th {\n",
              "        vertical-align: top;\n",
              "    }\n",
              "\n",
              "    .dataframe thead th {\n",
              "        text-align: right;\n",
              "    }\n",
              "</style>\n",
              "<table border=\"1\" class=\"dataframe\">\n",
              "  <thead>\n",
              "    <tr style=\"text-align: right;\">\n",
              "      <th></th>\n",
              "      <th>Date</th>\n",
              "      <th>Euribor Type</th>\n",
              "    </tr>\n",
              "  </thead>\n",
              "  <tbody>\n",
              "    <tr>\n",
              "      <th>0</th>\n",
              "      <td>2023-12-29</td>\n",
              "      <td>3,51%</td>\n",
              "    </tr>\n",
              "    <tr>\n",
              "      <th>1</th>\n",
              "      <td>2023-12-28</td>\n",
              "      <td>3,54%</td>\n",
              "    </tr>\n",
              "    <tr>\n",
              "      <th>2</th>\n",
              "      <td>2023-12-27</td>\n",
              "      <td>3,55%</td>\n",
              "    </tr>\n",
              "    <tr>\n",
              "      <th>3</th>\n",
              "      <td>2023-12-22</td>\n",
              "      <td>3,58%</td>\n",
              "    </tr>\n",
              "    <tr>\n",
              "      <th>4</th>\n",
              "      <td>2023-12-21</td>\n",
              "      <td>3,58%</td>\n",
              "    </tr>\n",
              "  </tbody>\n",
              "</table>\n",
              "</div>"
            ],
            "text/plain": [
              "         Date Euribor Type\n",
              "0  2023-12-29        3,51%\n",
              "1  2023-12-28        3,54%\n",
              "2  2023-12-27        3,55%\n",
              "3  2023-12-22        3,58%\n",
              "4  2023-12-21        3,58%"
            ]
          },
          "execution_count": 255,
          "metadata": {},
          "output_type": "execute_result"
        }
      ],
      "source": [
        "# Actual situation\n",
        "df_euribor_2023.head()"
      ]
    },
    {
      "cell_type": "code",
      "execution_count": 256,
      "metadata": {},
      "outputs": [
        {
          "data": {
            "text/plain": [
              "Date            object\n",
              "Euribor Type    object\n",
              "dtype: object"
            ]
          },
          "execution_count": 256,
          "metadata": {},
          "output_type": "execute_result"
        }
      ],
      "source": [
        "# Actual datatypes\n",
        "df_euribor_2023.dtypes"
      ]
    },
    {
      "cell_type": "code",
      "execution_count": 257,
      "metadata": {},
      "outputs": [
        {
          "data": {
            "text/html": [
              "<div>\n",
              "<style scoped>\n",
              "    .dataframe tbody tr th:only-of-type {\n",
              "        vertical-align: middle;\n",
              "    }\n",
              "\n",
              "    .dataframe tbody tr th {\n",
              "        vertical-align: top;\n",
              "    }\n",
              "\n",
              "    .dataframe thead th {\n",
              "        text-align: right;\n",
              "    }\n",
              "</style>\n",
              "<table border=\"1\" class=\"dataframe\">\n",
              "  <thead>\n",
              "    <tr style=\"text-align: right;\">\n",
              "      <th></th>\n",
              "      <th>Date</th>\n",
              "      <th>Euribor Type</th>\n",
              "    </tr>\n",
              "  </thead>\n",
              "  <tbody>\n",
              "    <tr>\n",
              "      <th>0</th>\n",
              "      <td>2023-12-29</td>\n",
              "      <td>3,51</td>\n",
              "    </tr>\n",
              "    <tr>\n",
              "      <th>1</th>\n",
              "      <td>2023-12-28</td>\n",
              "      <td>3,54</td>\n",
              "    </tr>\n",
              "    <tr>\n",
              "      <th>2</th>\n",
              "      <td>2023-12-27</td>\n",
              "      <td>3,55</td>\n",
              "    </tr>\n",
              "    <tr>\n",
              "      <th>3</th>\n",
              "      <td>2023-12-22</td>\n",
              "      <td>3,58</td>\n",
              "    </tr>\n",
              "    <tr>\n",
              "      <th>4</th>\n",
              "      <td>2023-12-21</td>\n",
              "      <td>3,58</td>\n",
              "    </tr>\n",
              "  </tbody>\n",
              "</table>\n",
              "</div>"
            ],
            "text/plain": [
              "         Date Euribor Type\n",
              "0  2023-12-29         3,51\n",
              "1  2023-12-28         3,54\n",
              "2  2023-12-27         3,55\n",
              "3  2023-12-22         3,58\n",
              "4  2023-12-21         3,58"
            ]
          },
          "execution_count": 257,
          "metadata": {},
          "output_type": "execute_result"
        }
      ],
      "source": [
        "# Remove % char from cells\n",
        "df_euribor_2023['Euribor Type'] = df_euribor_2023['Euribor Type'].str.replace(\"%\", \"\")\n",
        "df_euribor_2023.head()"
      ]
    },
    {
      "cell_type": "code",
      "execution_count": 258,
      "metadata": {},
      "outputs": [
        {
          "data": {
            "text/html": [
              "<div>\n",
              "<style scoped>\n",
              "    .dataframe tbody tr th:only-of-type {\n",
              "        vertical-align: middle;\n",
              "    }\n",
              "\n",
              "    .dataframe tbody tr th {\n",
              "        vertical-align: top;\n",
              "    }\n",
              "\n",
              "    .dataframe thead th {\n",
              "        text-align: right;\n",
              "    }\n",
              "</style>\n",
              "<table border=\"1\" class=\"dataframe\">\n",
              "  <thead>\n",
              "    <tr style=\"text-align: right;\">\n",
              "      <th></th>\n",
              "      <th>Date</th>\n",
              "      <th>Euribor Type</th>\n",
              "    </tr>\n",
              "  </thead>\n",
              "  <tbody>\n",
              "    <tr>\n",
              "      <th>0</th>\n",
              "      <td>2023-12-29</td>\n",
              "      <td>3.51</td>\n",
              "    </tr>\n",
              "    <tr>\n",
              "      <th>1</th>\n",
              "      <td>2023-12-28</td>\n",
              "      <td>3.54</td>\n",
              "    </tr>\n",
              "    <tr>\n",
              "      <th>2</th>\n",
              "      <td>2023-12-27</td>\n",
              "      <td>3.55</td>\n",
              "    </tr>\n",
              "    <tr>\n",
              "      <th>3</th>\n",
              "      <td>2023-12-22</td>\n",
              "      <td>3.58</td>\n",
              "    </tr>\n",
              "    <tr>\n",
              "      <th>4</th>\n",
              "      <td>2023-12-21</td>\n",
              "      <td>3.58</td>\n",
              "    </tr>\n",
              "  </tbody>\n",
              "</table>\n",
              "</div>"
            ],
            "text/plain": [
              "         Date Euribor Type\n",
              "0  2023-12-29         3.51\n",
              "1  2023-12-28         3.54\n",
              "2  2023-12-27         3.55\n",
              "3  2023-12-22         3.58\n",
              "4  2023-12-21         3.58"
            ]
          },
          "execution_count": 258,
          "metadata": {},
          "output_type": "execute_result"
        }
      ],
      "source": [
        "# Convert , to . for decimal delimiter token\n",
        "df_euribor_2023['Euribor Type'] = df_euribor_2023['Euribor Type'].str.replace(\",\", \".\")\n",
        "df_euribor_2023.head()"
      ]
    },
    {
      "cell_type": "code",
      "execution_count": 259,
      "metadata": {},
      "outputs": [
        {
          "data": {
            "text/plain": [
              "Date             object\n",
              "Euribor Type    float64\n",
              "dtype: object"
            ]
          },
          "execution_count": 259,
          "metadata": {},
          "output_type": "execute_result"
        }
      ],
      "source": [
        "# Convert object to float\n",
        "df_euribor_2023['Euribor Type'] = df_euribor_2023['Euribor Type'].astype('float64')\n",
        "df_euribor_2023.dtypes"
      ]
    },
    {
      "cell_type": "markdown",
      "metadata": {},
      "source": [
        "## Formatter Gold 2023\n",
        "\n",
        "Gold 2023 csv needs these format corrections:\n",
        "- Rename columns\n",
        "- Set . as decimal separator token\n",
        "- set 2 float positions\n",
        "- Convert object to float64"
      ]
    },
    {
      "cell_type": "code",
      "execution_count": 260,
      "metadata": {},
      "outputs": [
        {
          "data": {
            "text/html": [
              "<div>\n",
              "<style scoped>\n",
              "    .dataframe tbody tr th:only-of-type {\n",
              "        vertical-align: middle;\n",
              "    }\n",
              "\n",
              "    .dataframe tbody tr th {\n",
              "        vertical-align: top;\n",
              "    }\n",
              "\n",
              "    .dataframe thead th {\n",
              "        text-align: right;\n",
              "    }\n",
              "</style>\n",
              "<table border=\"1\" class=\"dataframe\">\n",
              "  <thead>\n",
              "    <tr style=\"text-align: right;\">\n",
              "      <th></th>\n",
              "      <th>Fecha</th>\n",
              "      <th>Abrir</th>\n",
              "      <th>Máx.</th>\n",
              "      <th>Mín.</th>\n",
              "      <th>Cierre</th>\n",
              "      <th>Cierre ajus</th>\n",
              "      <th>Volumen</th>\n",
              "    </tr>\n",
              "  </thead>\n",
              "  <tbody>\n",
              "    <tr>\n",
              "      <th>0</th>\n",
              "      <td>2023-12-29</td>\n",
              "      <td>2068</td>\n",
              "      <td>2068,9</td>\n",
              "      <td>2062,1</td>\n",
              "      <td>2062,4</td>\n",
              "      <td>2062,4</td>\n",
              "      <td>47</td>\n",
              "    </tr>\n",
              "    <tr>\n",
              "      <th>1</th>\n",
              "      <td>2023-12-28</td>\n",
              "      <td>2081,6</td>\n",
              "      <td>2087,3</td>\n",
              "      <td>2066,5</td>\n",
              "      <td>2073,9</td>\n",
              "      <td>2073,9</td>\n",
              "      <td>338</td>\n",
              "    </tr>\n",
              "    <tr>\n",
              "      <th>2</th>\n",
              "      <td>2023-12-27</td>\n",
              "      <td>2067,3</td>\n",
              "      <td>2081,9</td>\n",
              "      <td>2064,8</td>\n",
              "      <td>2081,9</td>\n",
              "      <td>2081,9</td>\n",
              "      <td>586</td>\n",
              "    </tr>\n",
              "    <tr>\n",
              "      <th>3</th>\n",
              "      <td>2023-12-26</td>\n",
              "      <td>2060</td>\n",
              "      <td>2060,8</td>\n",
              "      <td>2054,2</td>\n",
              "      <td>2058,2</td>\n",
              "      <td>2058,2</td>\n",
              "      <td>64</td>\n",
              "    </tr>\n",
              "    <tr>\n",
              "      <th>4</th>\n",
              "      <td>2023-12-22</td>\n",
              "      <td>2055,7</td>\n",
              "      <td>2068,7</td>\n",
              "      <td>2052,2</td>\n",
              "      <td>2057,1</td>\n",
              "      <td>2057,1</td>\n",
              "      <td>202</td>\n",
              "    </tr>\n",
              "  </tbody>\n",
              "</table>\n",
              "</div>"
            ],
            "text/plain": [
              "        Fecha   Abrir    Máx.    Mín.  Cierre Cierre ajus Volumen\n",
              "0  2023-12-29    2068  2068,9  2062,1  2062,4      2062,4      47\n",
              "1  2023-12-28  2081,6  2087,3  2066,5  2073,9      2073,9     338\n",
              "2  2023-12-27  2067,3  2081,9  2064,8  2081,9      2081,9     586\n",
              "3  2023-12-26    2060  2060,8  2054,2  2058,2      2058,2      64\n",
              "4  2023-12-22  2055,7  2068,7  2052,2  2057,1      2057,1     202"
            ]
          },
          "execution_count": 260,
          "metadata": {},
          "output_type": "execute_result"
        }
      ],
      "source": [
        "# Actual situation\n",
        "df_gold_2023.head()"
      ]
    },
    {
      "cell_type": "code",
      "execution_count": 261,
      "metadata": {},
      "outputs": [
        {
          "data": {
            "text/plain": [
              "Fecha          object\n",
              "Abrir          object\n",
              "Máx.           object\n",
              "Mín.           object\n",
              "Cierre         object\n",
              "Cierre ajus    object\n",
              "Volumen        object\n",
              "dtype: object"
            ]
          },
          "execution_count": 261,
          "metadata": {},
          "output_type": "execute_result"
        }
      ],
      "source": [
        "# Actual data types\n",
        "df_gold_2023.dtypes"
      ]
    },
    {
      "cell_type": "code",
      "execution_count": 262,
      "metadata": {},
      "outputs": [
        {
          "data": {
            "text/html": [
              "<pre>&lt;class 'pandas.core.frame.DataFrame'&gt;\n",
              "RangeIndex: 5 entries, 0 to 4\n",
              "Data columns (total 7 columns):\n",
              " #   Column          Non-Null Count  Dtype \n",
              "---  ------          --------------  ----- \n",
              " 0   Date            5 non-null      object\n",
              " 1   Gold Open       5 non-null      object\n",
              " 2   Gold High       5 non-null      object\n",
              " 3   Gold Low        5 non-null      object\n",
              " 4   Gold Close      5 non-null      object\n",
              " 5   Gold Adj Close  5 non-null      object\n",
              " 6   Gold Volume     5 non-null      object\n",
              "dtypes: object(7)\n",
              "memory usage: 412.0+ bytes\n",
              "</pre>"
            ],
            "text/plain": [
              "<class 'pandas.core.frame.DataFrame'>\n",
              "RangeIndex: 5 entries, 0 to 4\n",
              "Data columns (total 7 columns):\n",
              " #   Column          Non-Null Count  Dtype \n",
              "---  ------          --------------  ----- \n",
              " 0   Date            5 non-null      object\n",
              " 1   Gold Open       5 non-null      object\n",
              " 2   Gold High       5 non-null      object\n",
              " 3   Gold Low        5 non-null      object\n",
              " 4   Gold Close      5 non-null      object\n",
              " 5   Gold Adj Close  5 non-null      object\n",
              " 6   Gold Volume     5 non-null      object\n",
              "dtypes: object(7)\n",
              "memory usage: 412.0+ bytes"
            ]
          },
          "execution_count": 262,
          "metadata": {},
          "output_type": "execute_result"
        }
      ],
      "source": [
        "#In this example, lets translate headers to english and add % simbol, remember cells must be desired numbers or float format\n",
        "df_gold_2023 = df_gold_2023.rename(columns={'Fecha': 'Date', 'Abrir': 'Gold Open','Máx.': 'Gold High','Mín.': 'Gold Low','Cierre': 'Gold Close','Cierre ajus': 'Gold Adj Close','Volumen': 'Gold Volume'})\n",
        "df_gold_2023\n",
        "\n",
        "# We can define variables to use in another cells\n",
        "column_A_Renamed = 'Date'\n",
        "column_B_Renamed = 'Gold Open'\n",
        "column_C_Renamed = 'Gold High'\n",
        "column_D_Renamed = 'Gold Low'\n",
        "column_E_Renamed = 'Gold Close'\n",
        "column_F_Renamed = 'Gold Adj Close'\n",
        "column_G_Renamed = 'Gold Volume'\n",
        "\n",
        "df_gold_2023.head()"
      ]
    },
    {
      "cell_type": "code",
      "execution_count": 263,
      "metadata": {},
      "outputs": [
        {
          "data": {
            "text/html": [
              "<pre>&lt;class 'pandas.core.frame.DataFrame'&gt;\n",
              "RangeIndex: 5 entries, 0 to 4\n",
              "Data columns (total 7 columns):\n",
              " #   Column          Non-Null Count  Dtype \n",
              "---  ------          --------------  ----- \n",
              " 0   Date            5 non-null      object\n",
              " 1   Gold Open       5 non-null      object\n",
              " 2   Gold High       5 non-null      object\n",
              " 3   Gold Low        5 non-null      object\n",
              " 4   Gold Close      5 non-null      object\n",
              " 5   Gold Adj Close  5 non-null      object\n",
              " 6   Gold Volume     5 non-null      object\n",
              "dtypes: object(7)\n",
              "memory usage: 412.0+ bytes\n",
              "</pre>"
            ],
            "text/plain": [
              "<class 'pandas.core.frame.DataFrame'>\n",
              "RangeIndex: 5 entries, 0 to 4\n",
              "Data columns (total 7 columns):\n",
              " #   Column          Non-Null Count  Dtype \n",
              "---  ------          --------------  ----- \n",
              " 0   Date            5 non-null      object\n",
              " 1   Gold Open       5 non-null      object\n",
              " 2   Gold High       5 non-null      object\n",
              " 3   Gold Low        5 non-null      object\n",
              " 4   Gold Close      5 non-null      object\n",
              " 5   Gold Adj Close  5 non-null      object\n",
              " 6   Gold Volume     5 non-null      object\n",
              "dtypes: object(7)\n",
              "memory usage: 412.0+ bytes"
            ]
          },
          "execution_count": 263,
          "metadata": {},
          "output_type": "execute_result"
        }
      ],
      "source": [
        "# Convert , to . for decimal delimiter token\n",
        "df_gold_2023[column_B_Renamed] = df_gold_2023[column_B_Renamed].str.replace(\",\", \".\")\n",
        "df_gold_2023[column_C_Renamed] = df_gold_2023[column_C_Renamed].str.replace(\",\", \".\")\n",
        "df_gold_2023[column_D_Renamed] = df_gold_2023[column_D_Renamed].str.replace(\",\", \".\")\n",
        "df_gold_2023[column_E_Renamed] = df_gold_2023[column_E_Renamed].str.replace(\",\", \".\")\n",
        "df_gold_2023[column_F_Renamed] = df_gold_2023[column_F_Renamed].str.replace(\",\", \".\")\n",
        "\n",
        "# Delete thousand separator units in Volume column\n",
        "df_gold_2023[column_G_Renamed] = df_gold_2023[column_G_Renamed].str.replace(\".\", \"\")\n",
        "\n",
        "# Delete illegal char \"-\" in Volume\n",
        "df_gold_2023[column_G_Renamed] = df_gold_2023[column_G_Renamed].str.replace(\"-\", \"0\")\n",
        "\n",
        "df_gold_2023.head()"
      ]
    },
    {
      "cell_type": "code",
      "execution_count": 264,
      "metadata": {},
      "outputs": [
        {
          "data": {
            "text/plain": [
              "Date               object\n",
              "Gold Open         float64\n",
              "Gold High         float64\n",
              "Gold Low          float64\n",
              "Gold Close        float64\n",
              "Gold Adj Close    float64\n",
              "Gold Volume         int64\n",
              "dtype: object"
            ]
          },
          "execution_count": 264,
          "metadata": {},
          "output_type": "execute_result"
        }
      ],
      "source": [
        "# Convert , to . for decimal delimiter token\n",
        "df_gold_2023[column_B_Renamed] = df_gold_2023[column_B_Renamed].astype(\"float64\")\n",
        "df_gold_2023[column_C_Renamed] = df_gold_2023[column_C_Renamed].astype(\"float64\")\n",
        "df_gold_2023[column_D_Renamed] = df_gold_2023[column_D_Renamed].astype(\"float64\")\n",
        "df_gold_2023[column_E_Renamed] = df_gold_2023[column_E_Renamed].astype(\"float64\")\n",
        "df_gold_2023[column_F_Renamed] = df_gold_2023[column_F_Renamed].astype(\"float64\")\n",
        "df_gold_2023[column_G_Renamed] = df_gold_2023[column_G_Renamed].astype(\"int64\")\n",
        "\n",
        "df_gold_2023.dtypes"
      ]
    },
    {
      "cell_type": "markdown",
      "metadata": {},
      "source": [
        "## Formatter Brent 2023\n",
        "\n",
        "Brent 2023 csv needs these format corrections:\n",
        "\n",
        "- Rename columns\n",
        "- Set . as decimal separator token\n",
        "- set 2 float positions\n",
        "- Convert object to float64\n",
        "- Delete . from Volume cells (we don't need . to indicate thousand units)\n",
        "- Catch illegal values in Volume column \"-\" in a 185 row"
      ]
    },
    {
      "cell_type": "code",
      "execution_count": 265,
      "metadata": {},
      "outputs": [
        {
          "data": {
            "text/html": [
              "<div>\n",
              "<style scoped>\n",
              "    .dataframe tbody tr th:only-of-type {\n",
              "        vertical-align: middle;\n",
              "    }\n",
              "\n",
              "    .dataframe tbody tr th {\n",
              "        vertical-align: top;\n",
              "    }\n",
              "\n",
              "    .dataframe thead th {\n",
              "        text-align: right;\n",
              "    }\n",
              "</style>\n",
              "<table border=\"1\" class=\"dataframe\">\n",
              "  <thead>\n",
              "    <tr style=\"text-align: right;\">\n",
              "      <th></th>\n",
              "      <th>Fecha</th>\n",
              "      <th>Abrir</th>\n",
              "      <th>Máx.</th>\n",
              "      <th>Mín.</th>\n",
              "      <th>Cierre</th>\n",
              "      <th>Cierre ajus</th>\n",
              "      <th>Volumen</th>\n",
              "    </tr>\n",
              "  </thead>\n",
              "  <tbody>\n",
              "    <tr>\n",
              "      <th>180</th>\n",
              "      <td>2023-04-13</td>\n",
              "      <td>86,34</td>\n",
              "      <td>86,86</td>\n",
              "      <td>85,54</td>\n",
              "      <td>86,31</td>\n",
              "      <td>86,31</td>\n",
              "      <td>28.360</td>\n",
              "    </tr>\n",
              "    <tr>\n",
              "      <th>181</th>\n",
              "      <td>2023-04-12</td>\n",
              "      <td>87,15</td>\n",
              "      <td>87,47</td>\n",
              "      <td>86,06</td>\n",
              "      <td>86,09</td>\n",
              "      <td>86,09</td>\n",
              "      <td>26.363</td>\n",
              "    </tr>\n",
              "    <tr>\n",
              "      <th>182</th>\n",
              "      <td>2023-04-11</td>\n",
              "      <td>85,55</td>\n",
              "      <td>87,49</td>\n",
              "      <td>85,41</td>\n",
              "      <td>87,33</td>\n",
              "      <td>87,33</td>\n",
              "      <td>36.337</td>\n",
              "    </tr>\n",
              "    <tr>\n",
              "      <th>183</th>\n",
              "      <td>2023-04-10</td>\n",
              "      <td>84,28</td>\n",
              "      <td>85,68</td>\n",
              "      <td>83,75</td>\n",
              "      <td>85,61</td>\n",
              "      <td>85,61</td>\n",
              "      <td>28.189</td>\n",
              "    </tr>\n",
              "    <tr>\n",
              "      <th>184</th>\n",
              "      <td>2023-04-09</td>\n",
              "      <td>84,95</td>\n",
              "      <td>85,64</td>\n",
              "      <td>84,08</td>\n",
              "      <td>84,18</td>\n",
              "      <td>84,18</td>\n",
              "      <td>14.242</td>\n",
              "    </tr>\n",
              "    <tr>\n",
              "      <th>185</th>\n",
              "      <td>2023-04-05</td>\n",
              "      <td>84,83</td>\n",
              "      <td>85,44</td>\n",
              "      <td>84,05</td>\n",
              "      <td>85,12</td>\n",
              "      <td>85,12</td>\n",
              "      <td>-</td>\n",
              "    </tr>\n",
              "    <tr>\n",
              "      <th>186</th>\n",
              "      <td>2023-04-04</td>\n",
              "      <td>85,1</td>\n",
              "      <td>85,55</td>\n",
              "      <td>84,01</td>\n",
              "      <td>84,99</td>\n",
              "      <td>84,99</td>\n",
              "      <td>28.362</td>\n",
              "    </tr>\n",
              "    <tr>\n",
              "      <th>187</th>\n",
              "      <td>2023-04-03</td>\n",
              "      <td>84,78</td>\n",
              "      <td>86,05</td>\n",
              "      <td>83,87</td>\n",
              "      <td>84,94</td>\n",
              "      <td>84,94</td>\n",
              "      <td>32.987</td>\n",
              "    </tr>\n",
              "    <tr>\n",
              "      <th>188</th>\n",
              "      <td>2023-04-02</td>\n",
              "      <td>83,29</td>\n",
              "      <td>86,24</td>\n",
              "      <td>83,29</td>\n",
              "      <td>84,93</td>\n",
              "      <td>84,93</td>\n",
              "      <td>37.587</td>\n",
              "    </tr>\n",
              "    <tr>\n",
              "      <th>189</th>\n",
              "      <td>2023-03-30</td>\n",
              "      <td>79,28</td>\n",
              "      <td>79,77</td>\n",
              "      <td>79,07</td>\n",
              "      <td>79,77</td>\n",
              "      <td>79,77</td>\n",
              "      <td>38.477</td>\n",
              "    </tr>\n",
              "  </tbody>\n",
              "</table>\n",
              "</div>"
            ],
            "text/plain": [
              "          Fecha  Abrir   Máx.   Mín. Cierre Cierre ajus Volumen\n",
              "180  2023-04-13  86,34  86,86  85,54  86,31       86,31  28.360\n",
              "181  2023-04-12  87,15  87,47  86,06  86,09       86,09  26.363\n",
              "182  2023-04-11  85,55  87,49  85,41  87,33       87,33  36.337\n",
              "183  2023-04-10  84,28  85,68  83,75  85,61       85,61  28.189\n",
              "184  2023-04-09  84,95  85,64  84,08  84,18       84,18  14.242\n",
              "185  2023-04-05  84,83  85,44  84,05  85,12       85,12       -\n",
              "186  2023-04-04   85,1  85,55  84,01  84,99       84,99  28.362\n",
              "187  2023-04-03  84,78  86,05  83,87  84,94       84,94  32.987\n",
              "188  2023-04-02  83,29  86,24  83,29  84,93       84,93  37.587\n",
              "189  2023-03-30  79,28  79,77  79,07  79,77       79,77  38.477"
            ]
          },
          "execution_count": 265,
          "metadata": {},
          "output_type": "execute_result"
        }
      ],
      "source": [
        "# Actual situation\n",
        "# df_brent_2023.head(None) show all rows\n",
        "df_brent_2023.iloc[180:190] # Show specific range rows, lets see a \"-\" in the serial, we need to transform it"
      ]
    },
    {
      "cell_type": "code",
      "execution_count": 266,
      "metadata": {},
      "outputs": [
        {
          "data": {
            "text/html": [
              "<pre>&lt;class 'pandas.core.frame.DataFrame'&gt;\n",
              "RangeIndex: 5 entries, 0 to 4\n",
              "Data columns (total 7 columns):\n",
              " #   Column           Non-Null Count  Dtype \n",
              "---  ------           --------------  ----- \n",
              " 0   Date             5 non-null      object\n",
              " 1   Brent Open       5 non-null      object\n",
              " 2   Brent High       5 non-null      object\n",
              " 3   Brent Low        5 non-null      object\n",
              " 4   Brent Close      5 non-null      object\n",
              " 5   Brent Adj Close  5 non-null      object\n",
              " 6   Brent Volume     5 non-null      object\n",
              "dtypes: object(7)\n",
              "memory usage: 412.0+ bytes\n",
              "</pre>"
            ],
            "text/plain": [
              "<class 'pandas.core.frame.DataFrame'>\n",
              "RangeIndex: 5 entries, 0 to 4\n",
              "Data columns (total 7 columns):\n",
              " #   Column           Non-Null Count  Dtype \n",
              "---  ------           --------------  ----- \n",
              " 0   Date             5 non-null      object\n",
              " 1   Brent Open       5 non-null      object\n",
              " 2   Brent High       5 non-null      object\n",
              " 3   Brent Low        5 non-null      object\n",
              " 4   Brent Close      5 non-null      object\n",
              " 5   Brent Adj Close  5 non-null      object\n",
              " 6   Brent Volume     5 non-null      object\n",
              "dtypes: object(7)\n",
              "memory usage: 412.0+ bytes"
            ]
          },
          "execution_count": 266,
          "metadata": {},
          "output_type": "execute_result"
        }
      ],
      "source": [
        "# Now in our 2023 Study we will merge previous table information (ibex and ipc and euribor and gold 2023) with same format dates and same column name in this case against brent 2023 table\n",
        "# First we normalize columns name in input table brent 2023\n",
        "df_brent_2023 = df_brent_2023.rename(columns={'Fecha': 'Date', 'Abrir': 'Brent Open','Máx.': 'Brent High','Mín.': 'Brent Low','Cierre': 'Brent Close','Cierre ajus': 'Brent Adj Close','Volumen': 'Brent Volume'})\n",
        "\n",
        "# We can define variables to use in another cells\n",
        "column_A_Renamed = 'Date'\n",
        "column_B_Renamed = 'Brent Open'\n",
        "column_C_Renamed = 'Brent High'\n",
        "column_D_Renamed = 'Brent Low'\n",
        "column_E_Renamed = 'Brent Close'\n",
        "column_F_Renamed = 'Brent Adj Close'\n",
        "column_G_Renamed = 'Brent Volume'\n",
        "\n",
        "df_brent_2023.head()"
      ]
    },
    {
      "cell_type": "code",
      "execution_count": 267,
      "metadata": {},
      "outputs": [
        {
          "data": {
            "text/html": [
              "<pre>&lt;class 'pandas.core.frame.DataFrame'&gt;\n",
              "RangeIndex: 5 entries, 0 to 4\n",
              "Data columns (total 7 columns):\n",
              " #   Column           Non-Null Count  Dtype \n",
              "---  ------           --------------  ----- \n",
              " 0   Date             5 non-null      object\n",
              " 1   Brent Open       5 non-null      object\n",
              " 2   Brent High       5 non-null      object\n",
              " 3   Brent Low        5 non-null      object\n",
              " 4   Brent Close      5 non-null      object\n",
              " 5   Brent Adj Close  5 non-null      object\n",
              " 6   Brent Volume     5 non-null      object\n",
              "dtypes: object(7)\n",
              "memory usage: 412.0+ bytes\n",
              "</pre>"
            ],
            "text/plain": [
              "<class 'pandas.core.frame.DataFrame'>\n",
              "RangeIndex: 5 entries, 0 to 4\n",
              "Data columns (total 7 columns):\n",
              " #   Column           Non-Null Count  Dtype \n",
              "---  ------           --------------  ----- \n",
              " 0   Date             5 non-null      object\n",
              " 1   Brent Open       5 non-null      object\n",
              " 2   Brent High       5 non-null      object\n",
              " 3   Brent Low        5 non-null      object\n",
              " 4   Brent Close      5 non-null      object\n",
              " 5   Brent Adj Close  5 non-null      object\n",
              " 6   Brent Volume     5 non-null      object\n",
              "dtypes: object(7)\n",
              "memory usage: 412.0+ bytes"
            ]
          },
          "execution_count": 267,
          "metadata": {},
          "output_type": "execute_result"
        }
      ],
      "source": [
        "# Convert , to . for decimal delimiter token\n",
        "# Delete . from volume, no need thousand units separator\n",
        "df_brent_2023[column_B_Renamed] = df_brent_2023[column_B_Renamed].str.replace(\",\", \".\")\n",
        "df_brent_2023[column_C_Renamed] = df_brent_2023[column_C_Renamed].str.replace(\",\", \".\")\n",
        "df_brent_2023[column_D_Renamed] = df_brent_2023[column_D_Renamed].str.replace(\",\", \".\")\n",
        "df_brent_2023[column_E_Renamed] = df_brent_2023[column_E_Renamed].str.replace(\",\", \".\")\n",
        "df_brent_2023[column_F_Renamed] = df_brent_2023[column_F_Renamed].str.replace(\",\", \".\")\n",
        "\n",
        "df_brent_2023.head()"
      ]
    },
    {
      "cell_type": "code",
      "execution_count": 268,
      "metadata": {},
      "outputs": [
        {
          "data": {
            "text/plain": [
              "Date                object\n",
              "Brent Open         float64\n",
              "Brent High         float64\n",
              "Brent Low          float64\n",
              "Brent Close        float64\n",
              "Brent Adj Close    float64\n",
              "Brent Volume        object\n",
              "dtype: object"
            ]
          },
          "execution_count": 268,
          "metadata": {},
          "output_type": "execute_result"
        }
      ],
      "source": [
        "# Convert , to . for decimal delimiter token\n",
        "df_brent_2023[column_B_Renamed] = df_brent_2023[column_B_Renamed].astype(\"float64\")\n",
        "df_brent_2023[column_C_Renamed] = df_brent_2023[column_C_Renamed].astype(\"float64\")\n",
        "df_brent_2023[column_D_Renamed] = df_brent_2023[column_D_Renamed].astype(\"float64\")\n",
        "df_brent_2023[column_E_Renamed] = df_brent_2023[column_E_Renamed].astype(\"float64\")\n",
        "df_brent_2023[column_F_Renamed] = df_brent_2023[column_F_Renamed].astype(\"float64\")\n",
        "\n",
        "df_brent_2023.dtypes"
      ]
    },
    {
      "cell_type": "code",
      "execution_count": 269,
      "metadata": {},
      "outputs": [
        {
          "data": {
            "text/plain": [
              "10"
            ]
          },
          "execution_count": 269,
          "metadata": {},
          "output_type": "execute_result"
        }
      ],
      "source": [
        "int(float(df_brent_2023[column_G_Renamed][3]))"
      ]
    },
    {
      "cell_type": "code",
      "execution_count": 270,
      "metadata": {},
      "outputs": [
        {
          "data": {
            "text/html": [
              "<pre>&lt;class 'pandas.core.frame.DataFrame'&gt;\n",
              "RangeIndex: 5 entries, 0 to 4\n",
              "Data columns (total 7 columns):\n",
              " #   Column           Non-Null Count  Dtype  \n",
              "---  ------           --------------  -----  \n",
              " 0   Date             5 non-null      object \n",
              " 1   Brent Open       5 non-null      float64\n",
              " 2   Brent High       5 non-null      float64\n",
              " 3   Brent Low        5 non-null      float64\n",
              " 4   Brent Close      5 non-null      float64\n",
              " 5   Brent Adj Close  5 non-null      float64\n",
              " 6   Brent Volume     5 non-null      object \n",
              "dtypes: float64(5), object(2)\n",
              "memory usage: 412.0+ bytes\n",
              "</pre>"
            ],
            "text/plain": [
              "<class 'pandas.core.frame.DataFrame'>\n",
              "RangeIndex: 5 entries, 0 to 4\n",
              "Data columns (total 7 columns):\n",
              " #   Column           Non-Null Count  Dtype  \n",
              "---  ------           --------------  -----  \n",
              " 0   Date             5 non-null      object \n",
              " 1   Brent Open       5 non-null      float64\n",
              " 2   Brent High       5 non-null      float64\n",
              " 3   Brent Low        5 non-null      float64\n",
              " 4   Brent Close      5 non-null      float64\n",
              " 5   Brent Adj Close  5 non-null      float64\n",
              " 6   Brent Volume     5 non-null      object \n",
              "dtypes: float64(5), object(2)\n",
              "memory usage: 412.0+ bytes"
            ]
          },
          "execution_count": 270,
          "metadata": {},
          "output_type": "execute_result"
        }
      ],
      "source": [
        "# Delete . in Volume cells, no need thousand separator\n",
        "df_brent_2023[column_G_Renamed] = df_brent_2023[column_G_Renamed].str.replace(\".\", \"\")\n",
        "\n",
        "df_brent_2023.head()"
      ]
    },
    {
      "cell_type": "code",
      "execution_count": 271,
      "metadata": {},
      "outputs": [
        {
          "data": {
            "text/plain": [
              "Date                object\n",
              "Brent Open         float64\n",
              "Brent High         float64\n",
              "Brent Low          float64\n",
              "Brent Close        float64\n",
              "Brent Adj Close    float64\n",
              "Brent Volume         int64\n",
              "dtype: object"
            ]
          },
          "execution_count": 271,
          "metadata": {},
          "output_type": "execute_result"
        }
      ],
      "source": [
        "# We need to fix 185 row Volumen value, its not a numeric, we will convert it to 0\n",
        "df_brent_2023[column_G_Renamed] = df_brent_2023[column_G_Renamed].str.replace(\"-\", \"0\")\n",
        "df_brent_2023[column_G_Renamed] = df_brent_2023[column_G_Renamed].astype(\"int64\")\n",
        "\n",
        "df_brent_2023.dtypes"
      ]
    },
    {
      "cell_type": "markdown",
      "metadata": {},
      "source": [
        "## Formatter Euro/Dolar 2023\n",
        "\n",
        "Euro/Dolar 2023 csv needs these format corrections:\n",
        "\n",
        "- Rename columns\n",
        "- Set . as decimal separator token\n",
        "- set 2 float positions\n",
        "- Convert object to float64"
      ]
    },
    {
      "cell_type": "code",
      "execution_count": 272,
      "metadata": {},
      "outputs": [
        {
          "data": {
            "text/html": [
              "<div>\n",
              "<style scoped>\n",
              "    .dataframe tbody tr th:only-of-type {\n",
              "        vertical-align: middle;\n",
              "    }\n",
              "\n",
              "    .dataframe tbody tr th {\n",
              "        vertical-align: top;\n",
              "    }\n",
              "\n",
              "    .dataframe thead th {\n",
              "        text-align: right;\n",
              "    }\n",
              "</style>\n",
              "<table border=\"1\" class=\"dataframe\">\n",
              "  <thead>\n",
              "    <tr style=\"text-align: right;\">\n",
              "      <th></th>\n",
              "      <th>Fecha</th>\n",
              "      <th>Abrir</th>\n",
              "      <th>Máx.</th>\n",
              "      <th>Mín.</th>\n",
              "      <th>Cierre</th>\n",
              "      <th>Cierre ajus</th>\n",
              "    </tr>\n",
              "  </thead>\n",
              "  <tbody>\n",
              "    <tr>\n",
              "      <th>0</th>\n",
              "      <td>2023-12-29</td>\n",
              "      <td>1,1068</td>\n",
              "      <td>1,1086</td>\n",
              "      <td>1,1043</td>\n",
              "      <td>1,1068</td>\n",
              "      <td>1,1068</td>\n",
              "    </tr>\n",
              "    <tr>\n",
              "      <th>1</th>\n",
              "      <td>2023-12-28</td>\n",
              "      <td>1,1109</td>\n",
              "      <td>1,1139</td>\n",
              "      <td>1,1071</td>\n",
              "      <td>1,1109</td>\n",
              "      <td>1,1109</td>\n",
              "    </tr>\n",
              "    <tr>\n",
              "      <th>2</th>\n",
              "      <td>2023-12-27</td>\n",
              "      <td>1,1043</td>\n",
              "      <td>1,1122</td>\n",
              "      <td>1,1029</td>\n",
              "      <td>1,1043</td>\n",
              "      <td>1,1043</td>\n",
              "    </tr>\n",
              "    <tr>\n",
              "      <th>3</th>\n",
              "      <td>2023-12-26</td>\n",
              "      <td>1,102</td>\n",
              "      <td>1,104</td>\n",
              "      <td>1,101</td>\n",
              "      <td>1,102</td>\n",
              "      <td>1,102</td>\n",
              "    </tr>\n",
              "    <tr>\n",
              "      <th>4</th>\n",
              "      <td>2023-12-25</td>\n",
              "      <td>1,1027</td>\n",
              "      <td>1,1042</td>\n",
              "      <td>1,1</td>\n",
              "      <td>1,1027</td>\n",
              "      <td>1,1027</td>\n",
              "    </tr>\n",
              "  </tbody>\n",
              "</table>\n",
              "</div>"
            ],
            "text/plain": [
              "        Fecha   Abrir    Máx.    Mín.  Cierre Cierre ajus\n",
              "0  2023-12-29  1,1068  1,1086  1,1043  1,1068      1,1068\n",
              "1  2023-12-28  1,1109  1,1139  1,1071  1,1109      1,1109\n",
              "2  2023-12-27  1,1043  1,1122  1,1029  1,1043      1,1043\n",
              "3  2023-12-26   1,102   1,104   1,101   1,102       1,102\n",
              "4  2023-12-25  1,1027  1,1042     1,1  1,1027      1,1027"
            ]
          },
          "execution_count": 272,
          "metadata": {},
          "output_type": "execute_result"
        }
      ],
      "source": [
        "# Actual situation\n",
        "df_dolar_euro_2023.head()"
      ]
    },
    {
      "cell_type": "code",
      "execution_count": 273,
      "metadata": {},
      "outputs": [
        {
          "data": {
            "text/plain": [
              "Fecha          object\n",
              "Abrir          object\n",
              "Máx.           object\n",
              "Mín.           object\n",
              "Cierre         object\n",
              "Cierre ajus    object\n",
              "dtype: object"
            ]
          },
          "execution_count": 273,
          "metadata": {},
          "output_type": "execute_result"
        }
      ],
      "source": [
        "# Actual data types\n",
        "df_dolar_euro_2023.dtypes"
      ]
    },
    {
      "cell_type": "code",
      "execution_count": 274,
      "metadata": {},
      "outputs": [
        {
          "data": {
            "text/html": [
              "<pre>&lt;class 'pandas.core.frame.DataFrame'&gt;\n",
              "RangeIndex: 5 entries, 0 to 4\n",
              "Data columns (total 6 columns):\n",
              " #   Column             Non-Null Count  Dtype \n",
              "---  ------             --------------  ----- \n",
              " 0   Date               5 non-null      object\n",
              " 1   Eur-USD Open       5 non-null      object\n",
              " 2   Eur-USD High       5 non-null      object\n",
              " 3   Eur-USD Low        5 non-null      object\n",
              " 4   Eur-USD Close      5 non-null      object\n",
              " 5   Eur-USD Adj Close  5 non-null      object\n",
              "dtypes: object(6)\n",
              "memory usage: 372.0+ bytes\n",
              "</pre>"
            ],
            "text/plain": [
              "<class 'pandas.core.frame.DataFrame'>\n",
              "RangeIndex: 5 entries, 0 to 4\n",
              "Data columns (total 6 columns):\n",
              " #   Column             Non-Null Count  Dtype \n",
              "---  ------             --------------  ----- \n",
              " 0   Date               5 non-null      object\n",
              " 1   Eur-USD Open       5 non-null      object\n",
              " 2   Eur-USD High       5 non-null      object\n",
              " 3   Eur-USD Low        5 non-null      object\n",
              " 4   Eur-USD Close      5 non-null      object\n",
              " 5   Eur-USD Adj Close  5 non-null      object\n",
              "dtypes: object(6)\n",
              "memory usage: 372.0+ bytes"
            ]
          },
          "execution_count": 274,
          "metadata": {},
          "output_type": "execute_result"
        }
      ],
      "source": [
        "# Rename columns\n",
        "df_dolar_euro_2023 = df_dolar_euro_2023.rename(columns={'Fecha': 'Date', 'Abrir': 'Eur-USD Open','Máx.': 'Eur-USD High','Mín.': 'Eur-USD Low','Cierre': 'Eur-USD Close','Cierre ajus': 'Eur-USD Adj Close'})\n",
        "df_dolar_euro_2023\n",
        "\n",
        "# We can define variables to use in another cells\n",
        "column_A_Renamed = 'Date'\n",
        "column_B_Renamed = 'Eur-USD Open'\n",
        "column_C_Renamed = 'Eur-USD High'\n",
        "column_D_Renamed = 'Eur-USD Low'\n",
        "column_E_Renamed = 'Eur-USD Close'\n",
        "column_F_Renamed = 'Eur-USD Adj Close'\n",
        "\n",
        "df_dolar_euro_2023.head()\n"
      ]
    },
    {
      "cell_type": "code",
      "execution_count": 275,
      "metadata": {},
      "outputs": [
        {
          "data": {
            "text/html": [
              "<pre>&lt;class 'pandas.core.frame.DataFrame'&gt;\n",
              "RangeIndex: 5 entries, 0 to 4\n",
              "Data columns (total 6 columns):\n",
              " #   Column             Non-Null Count  Dtype \n",
              "---  ------             --------------  ----- \n",
              " 0   Date               5 non-null      object\n",
              " 1   Eur-USD Open       5 non-null      object\n",
              " 2   Eur-USD High       5 non-null      object\n",
              " 3   Eur-USD Low        5 non-null      object\n",
              " 4   Eur-USD Close      5 non-null      object\n",
              " 5   Eur-USD Adj Close  5 non-null      object\n",
              "dtypes: object(6)\n",
              "memory usage: 372.0+ bytes\n",
              "</pre>"
            ],
            "text/plain": [
              "<class 'pandas.core.frame.DataFrame'>\n",
              "RangeIndex: 5 entries, 0 to 4\n",
              "Data columns (total 6 columns):\n",
              " #   Column             Non-Null Count  Dtype \n",
              "---  ------             --------------  ----- \n",
              " 0   Date               5 non-null      object\n",
              " 1   Eur-USD Open       5 non-null      object\n",
              " 2   Eur-USD High       5 non-null      object\n",
              " 3   Eur-USD Low        5 non-null      object\n",
              " 4   Eur-USD Close      5 non-null      object\n",
              " 5   Eur-USD Adj Close  5 non-null      object\n",
              "dtypes: object(6)\n",
              "memory usage: 372.0+ bytes"
            ]
          },
          "execution_count": 275,
          "metadata": {},
          "output_type": "execute_result"
        }
      ],
      "source": [
        "# Convert , to . for decimal delimiter token\n",
        "df_dolar_euro_2023[column_B_Renamed] = df_dolar_euro_2023[column_B_Renamed].str.replace(\",\", \".\")\n",
        "df_dolar_euro_2023[column_C_Renamed] = df_dolar_euro_2023[column_C_Renamed].str.replace(\",\", \".\")\n",
        "df_dolar_euro_2023[column_D_Renamed] = df_dolar_euro_2023[column_D_Renamed].str.replace(\",\", \".\")\n",
        "df_dolar_euro_2023[column_E_Renamed] = df_dolar_euro_2023[column_E_Renamed].str.replace(\",\", \".\")\n",
        "df_dolar_euro_2023[column_F_Renamed] = df_dolar_euro_2023[column_F_Renamed].str.replace(\",\", \".\")\n",
        "\n",
        "df_dolar_euro_2023.head()"
      ]
    },
    {
      "cell_type": "code",
      "execution_count": 276,
      "metadata": {},
      "outputs": [
        {
          "data": {
            "text/plain": [
              "Date                  object\n",
              "Eur-USD Open         float64\n",
              "Eur-USD High         float64\n",
              "Eur-USD Low          float64\n",
              "Eur-USD Close        float64\n",
              "Eur-USD Adj Close    float64\n",
              "dtype: object"
            ]
          },
          "execution_count": 276,
          "metadata": {},
          "output_type": "execute_result"
        }
      ],
      "source": [
        "# Convert , to . for decimal delimiter token\n",
        "df_dolar_euro_2023[column_B_Renamed] = df_dolar_euro_2023[column_B_Renamed].astype(\"float64\")\n",
        "df_dolar_euro_2023[column_C_Renamed] = df_dolar_euro_2023[column_C_Renamed].astype(\"float64\")\n",
        "df_dolar_euro_2023[column_D_Renamed] = df_dolar_euro_2023[column_D_Renamed].astype(\"float64\")\n",
        "df_dolar_euro_2023[column_E_Renamed] = df_dolar_euro_2023[column_E_Renamed].astype(\"float64\")\n",
        "df_dolar_euro_2023[column_F_Renamed] = df_dolar_euro_2023[column_F_Renamed].astype(\"float64\")\n",
        "\n",
        "df_dolar_euro_2023.dtypes"
      ]
    },
    {
      "cell_type": "markdown",
      "metadata": {},
      "source": [
        "## Formatter Excess Mortality 2023\n",
        "\n",
        "Excess Mortality 2023 csv needs these format corrections:\n",
        "\n",
        "- Crop columns, we only need OBS_VALUE and TIME_PERIOD\n",
        "- Rename columns\n",
        "- Format Dates 2023-02 from to 2023-02-01\n",
        "- Expand table by dates"
      ]
    },
    {
      "cell_type": "code",
      "execution_count": 277,
      "metadata": {},
      "outputs": [
        {
          "data": {
            "text/html": [
              "<pre>&lt;class 'pandas.core.frame.DataFrame'&gt;\n",
              "RangeIndex: 5 entries, 0 to 4\n",
              "Data columns (total 8 columns):\n",
              " #   Column       Non-Null Count  Dtype  \n",
              "---  ------       --------------  -----  \n",
              " 0   DATAFLOW     5 non-null      object \n",
              " 1   LAST UPDATE  5 non-null      object \n",
              " 2   freq         5 non-null      object \n",
              " 3   unit         5 non-null      object \n",
              " 4   geo          5 non-null      object \n",
              " 5   TIME_PERIOD  5 non-null      object \n",
              " 6   OBS_VALUE    5 non-null      float64\n",
              " 7   OBS_FLAG     5 non-null      object \n",
              "dtypes: float64(1), object(7)\n",
              "memory usage: 452.0+ bytes\n",
              "</pre>"
            ],
            "text/plain": [
              "<class 'pandas.core.frame.DataFrame'>\n",
              "RangeIndex: 5 entries, 0 to 4\n",
              "Data columns (total 8 columns):\n",
              " #   Column       Non-Null Count  Dtype  \n",
              "---  ------       --------------  -----  \n",
              " 0   DATAFLOW     5 non-null      object \n",
              " 1   LAST UPDATE  5 non-null      object \n",
              " 2   freq         5 non-null      object \n",
              " 3   unit         5 non-null      object \n",
              " 4   geo          5 non-null      object \n",
              " 5   TIME_PERIOD  5 non-null      object \n",
              " 6   OBS_VALUE    5 non-null      float64\n",
              " 7   OBS_FLAG     5 non-null      object \n",
              "dtypes: float64(1), object(7)\n",
              "memory usage: 452.0+ bytes"
            ]
          },
          "execution_count": 277,
          "metadata": {},
          "output_type": "execute_result"
        }
      ],
      "source": [
        "# Actual situation\n",
        "df_excess_mortality_2023.head()"
      ]
    },
    {
      "cell_type": "code",
      "execution_count": 278,
      "metadata": {},
      "outputs": [
        {
          "data": {
            "text/plain": [
              "DATAFLOW        object\n",
              "LAST UPDATE     object\n",
              "freq            object\n",
              "unit            object\n",
              "geo             object\n",
              "TIME_PERIOD     object\n",
              "OBS_VALUE      float64\n",
              "OBS_FLAG        object\n",
              "dtype: object"
            ]
          },
          "execution_count": 278,
          "metadata": {},
          "output_type": "execute_result"
        }
      ],
      "source": [
        "# Actual data types\n",
        "df_excess_mortality_2023.dtypes"
      ]
    },
    {
      "cell_type": "code",
      "execution_count": 279,
      "metadata": {},
      "outputs": [
        {
          "data": {
            "text/html": [
              "<div>\n",
              "<style scoped>\n",
              "    .dataframe tbody tr th:only-of-type {\n",
              "        vertical-align: middle;\n",
              "    }\n",
              "\n",
              "    .dataframe tbody tr th {\n",
              "        vertical-align: top;\n",
              "    }\n",
              "\n",
              "    .dataframe thead th {\n",
              "        text-align: right;\n",
              "    }\n",
              "</style>\n",
              "<table border=\"1\" class=\"dataframe\">\n",
              "  <thead>\n",
              "    <tr style=\"text-align: right;\">\n",
              "      <th></th>\n",
              "      <th>TIME_PERIOD</th>\n",
              "      <th>OBS_VALUE</th>\n",
              "    </tr>\n",
              "  </thead>\n",
              "  <tbody>\n",
              "    <tr>\n",
              "      <th>0</th>\n",
              "      <td>2023-02</td>\n",
              "      <td>-1.10</td>\n",
              "    </tr>\n",
              "    <tr>\n",
              "      <th>1</th>\n",
              "      <td>2023-03</td>\n",
              "      <td>1.30</td>\n",
              "    </tr>\n",
              "    <tr>\n",
              "      <th>2</th>\n",
              "      <td>2023-04</td>\n",
              "      <td>4.30</td>\n",
              "    </tr>\n",
              "    <tr>\n",
              "      <th>3</th>\n",
              "      <td>2023-05</td>\n",
              "      <td>3.60</td>\n",
              "    </tr>\n",
              "    <tr>\n",
              "      <th>4</th>\n",
              "      <td>2023-06</td>\n",
              "      <td>3.00</td>\n",
              "    </tr>\n",
              "    <tr>\n",
              "      <th>5</th>\n",
              "      <td>2023-07</td>\n",
              "      <td>2.50</td>\n",
              "    </tr>\n",
              "    <tr>\n",
              "      <th>6</th>\n",
              "      <td>2023-08</td>\n",
              "      <td>4.10</td>\n",
              "    </tr>\n",
              "    <tr>\n",
              "      <th>7</th>\n",
              "      <td>2023-09</td>\n",
              "      <td>4.20</td>\n",
              "    </tr>\n",
              "    <tr>\n",
              "      <th>8</th>\n",
              "      <td>2023-10</td>\n",
              "      <td>4.60</td>\n",
              "    </tr>\n",
              "    <tr>\n",
              "      <th>9</th>\n",
              "      <td>2023-11</td>\n",
              "      <td>7.70</td>\n",
              "    </tr>\n",
              "  </tbody>\n",
              "</table>\n",
              "</div>"
            ],
            "text/plain": [
              "  TIME_PERIOD  OBS_VALUE\n",
              "0     2023-02      -1.10\n",
              "1     2023-03       1.30\n",
              "2     2023-04       4.30\n",
              "3     2023-05       3.60\n",
              "4     2023-06       3.00\n",
              "5     2023-07       2.50\n",
              "6     2023-08       4.10\n",
              "7     2023-09       4.20\n",
              "8     2023-10       4.60\n",
              "9     2023-11       7.70"
            ]
          },
          "execution_count": 279,
          "metadata": {},
          "output_type": "execute_result"
        }
      ],
      "source": [
        "# Ok, we'll need only two columns, dates and values\n",
        "df_excess_mortality_reduced_2023 = df_excess_mortality_2023[['TIME_PERIOD', 'OBS_VALUE']]\n",
        "df_excess_mortality_reduced_2023"
      ]
    },
    {
      "cell_type": "code",
      "execution_count": 280,
      "metadata": {},
      "outputs": [
        {
          "data": {
            "text/html": [
              "<div>\n",
              "<style scoped>\n",
              "    .dataframe tbody tr th:only-of-type {\n",
              "        vertical-align: middle;\n",
              "    }\n",
              "\n",
              "    .dataframe tbody tr th {\n",
              "        vertical-align: top;\n",
              "    }\n",
              "\n",
              "    .dataframe thead th {\n",
              "        text-align: right;\n",
              "    }\n",
              "</style>\n",
              "<table border=\"1\" class=\"dataframe\">\n",
              "  <thead>\n",
              "    <tr style=\"text-align: right;\">\n",
              "      <th></th>\n",
              "      <th>Date</th>\n",
              "      <th>Excess Mortality UE %</th>\n",
              "    </tr>\n",
              "  </thead>\n",
              "  <tbody>\n",
              "    <tr>\n",
              "      <th>0</th>\n",
              "      <td>2023-02</td>\n",
              "      <td>-1.10</td>\n",
              "    </tr>\n",
              "    <tr>\n",
              "      <th>1</th>\n",
              "      <td>2023-03</td>\n",
              "      <td>1.30</td>\n",
              "    </tr>\n",
              "    <tr>\n",
              "      <th>2</th>\n",
              "      <td>2023-04</td>\n",
              "      <td>4.30</td>\n",
              "    </tr>\n",
              "    <tr>\n",
              "      <th>3</th>\n",
              "      <td>2023-05</td>\n",
              "      <td>3.60</td>\n",
              "    </tr>\n",
              "    <tr>\n",
              "      <th>4</th>\n",
              "      <td>2023-06</td>\n",
              "      <td>3.00</td>\n",
              "    </tr>\n",
              "    <tr>\n",
              "      <th>5</th>\n",
              "      <td>2023-07</td>\n",
              "      <td>2.50</td>\n",
              "    </tr>\n",
              "    <tr>\n",
              "      <th>6</th>\n",
              "      <td>2023-08</td>\n",
              "      <td>4.10</td>\n",
              "    </tr>\n",
              "    <tr>\n",
              "      <th>7</th>\n",
              "      <td>2023-09</td>\n",
              "      <td>4.20</td>\n",
              "    </tr>\n",
              "    <tr>\n",
              "      <th>8</th>\n",
              "      <td>2023-10</td>\n",
              "      <td>4.60</td>\n",
              "    </tr>\n",
              "    <tr>\n",
              "      <th>9</th>\n",
              "      <td>2023-11</td>\n",
              "      <td>7.70</td>\n",
              "    </tr>\n",
              "  </tbody>\n",
              "</table>\n",
              "</div>"
            ],
            "text/plain": [
              "      Date  Excess Mortality UE %\n",
              "0  2023-02                  -1.10\n",
              "1  2023-03                   1.30\n",
              "2  2023-04                   4.30\n",
              "3  2023-05                   3.60\n",
              "4  2023-06                   3.00\n",
              "5  2023-07                   2.50\n",
              "6  2023-08                   4.10\n",
              "7  2023-09                   4.20\n",
              "8  2023-10                   4.60\n",
              "9  2023-11                   7.70"
            ]
          },
          "execution_count": 280,
          "metadata": {},
          "output_type": "execute_result"
        }
      ],
      "source": [
        "# Rename columns\n",
        "df_excess_mortality_reduced_2023 = df_excess_mortality_reduced_2023.rename(columns={'TIME_PERIOD': 'Date', 'OBS_VALUE': 'Excess Mortality UE %'})\n",
        "df_excess_mortality_reduced_2023"
      ]
    },
    {
      "cell_type": "code",
      "execution_count": 281,
      "metadata": {},
      "outputs": [
        {
          "data": {
            "text/html": [
              "<div>\n",
              "<style scoped>\n",
              "    .dataframe tbody tr th:only-of-type {\n",
              "        vertical-align: middle;\n",
              "    }\n",
              "\n",
              "    .dataframe tbody tr th {\n",
              "        vertical-align: top;\n",
              "    }\n",
              "\n",
              "    .dataframe thead th {\n",
              "        text-align: right;\n",
              "    }\n",
              "</style>\n",
              "<table border=\"1\" class=\"dataframe\">\n",
              "  <thead>\n",
              "    <tr style=\"text-align: right;\">\n",
              "      <th></th>\n",
              "      <th>Date</th>\n",
              "      <th>Excess Mortality UE %</th>\n",
              "    </tr>\n",
              "  </thead>\n",
              "  <tbody>\n",
              "    <tr>\n",
              "      <th>0</th>\n",
              "      <td>2023-02-01</td>\n",
              "      <td>-1.10</td>\n",
              "    </tr>\n",
              "    <tr>\n",
              "      <th>1</th>\n",
              "      <td>2023-03-01</td>\n",
              "      <td>1.30</td>\n",
              "    </tr>\n",
              "    <tr>\n",
              "      <th>2</th>\n",
              "      <td>2023-04-01</td>\n",
              "      <td>4.30</td>\n",
              "    </tr>\n",
              "    <tr>\n",
              "      <th>3</th>\n",
              "      <td>2023-05-01</td>\n",
              "      <td>3.60</td>\n",
              "    </tr>\n",
              "    <tr>\n",
              "      <th>4</th>\n",
              "      <td>2023-06-01</td>\n",
              "      <td>3.00</td>\n",
              "    </tr>\n",
              "    <tr>\n",
              "      <th>5</th>\n",
              "      <td>2023-07-01</td>\n",
              "      <td>2.50</td>\n",
              "    </tr>\n",
              "    <tr>\n",
              "      <th>6</th>\n",
              "      <td>2023-08-01</td>\n",
              "      <td>4.10</td>\n",
              "    </tr>\n",
              "    <tr>\n",
              "      <th>7</th>\n",
              "      <td>2023-09-01</td>\n",
              "      <td>4.20</td>\n",
              "    </tr>\n",
              "    <tr>\n",
              "      <th>8</th>\n",
              "      <td>2023-10-01</td>\n",
              "      <td>4.60</td>\n",
              "    </tr>\n",
              "    <tr>\n",
              "      <th>9</th>\n",
              "      <td>2023-11-01</td>\n",
              "      <td>7.70</td>\n",
              "    </tr>\n",
              "  </tbody>\n",
              "</table>\n",
              "</div>"
            ],
            "text/plain": [
              "         Date  Excess Mortality UE %\n",
              "0  2023-02-01                  -1.10\n",
              "1  2023-03-01                   1.30\n",
              "2  2023-04-01                   4.30\n",
              "3  2023-05-01                   3.60\n",
              "4  2023-06-01                   3.00\n",
              "5  2023-07-01                   2.50\n",
              "6  2023-08-01                   4.10\n",
              "7  2023-09-01                   4.20\n",
              "8  2023-10-01                   4.60\n",
              "9  2023-11-01                   7.70"
            ]
          },
          "execution_count": 281,
          "metadata": {},
          "output_type": "execute_result"
        }
      ],
      "source": [
        "# Standarize the dates before expansion\n",
        "df_excess_mortality_reduced_2023['Date'] = pd.to_datetime(df_excess_mortality_reduced_2023['Date'],format='%Y-%m').dt.strftime('%Y-%m-%d')\n",
        "df_excess_mortality_reduced_2023"
      ]
    },
    {
      "cell_type": "code",
      "execution_count": 282,
      "metadata": {},
      "outputs": [
        {
          "data": {
            "text/html": [
              "<pre>&lt;class 'pandas.core.frame.DataFrame'&gt;\n",
              "Index: 303 entries, 0 to 302\n",
              "Data columns (total 2 columns):\n",
              " #   Column                 Non-Null Count  Dtype  \n",
              "---  ------                 --------------  -----  \n",
              " 0   Date                   303 non-null    object \n",
              " 1   Excess Mortality UE %  303 non-null    float64\n",
              "dtypes: float64(1), object(1)\n",
              "memory usage: 7.1+ KB\n",
              "</pre>"
            ],
            "text/plain": [
              "<class 'pandas.core.frame.DataFrame'>\n",
              "Index: 303 entries, 0 to 302\n",
              "Data columns (total 2 columns):\n",
              " #   Column                 Non-Null Count  Dtype  \n",
              "---  ------                 --------------  -----  \n",
              " 0   Date                   303 non-null    object \n",
              " 1   Excess Mortality UE %  303 non-null    float64\n",
              "dtypes: float64(1), object(1)\n",
              "memory usage: 7.1+ KB"
            ]
          },
          "execution_count": 282,
          "metadata": {},
          "output_type": "execute_result"
        }
      ],
      "source": [
        "# Now we need expand the table\n",
        "\n",
        "# We can define variables to use in another cells\n",
        "column_A_Renamed = 'Date'\n",
        "column_B_Renamed = 'Excess Mortality UE %'\n",
        "\n",
        "# Declare new Dataframe\n",
        "df_excess_mortality_expanded_2023 = pd.DataFrame()\n",
        "df_excess_mortality_expanded_2023 = pd.DataFrame(columns=[column_A_Renamed, column_B_Renamed])\n",
        "# Variables column_x_Renamed are initialized in previos cell execution\n",
        "\n",
        "for i in df_excess_mortality_reduced_2023.index:\n",
        "\n",
        "    instantDate = datetime.datetime.strptime(df_excess_mortality_reduced_2023['Date'][i], '%Y-%m-%d')\n",
        "    year = instantDate.year\n",
        "    month = instantDate.month\n",
        "    num_days = calendar.monthrange(year, month)[1]\n",
        "    days = [datetime.date(year, month, day).strftime('%Y-%m-%d') for day in range(1, num_days+1)]\n",
        "\n",
        "    for d in days:\n",
        "      # Add values to new dataframe\n",
        "      df_excess_mortality_expanded_2023.loc[len(df_excess_mortality_expanded_2023.index)] = [d, df_excess_mortality_reduced_2023[column_B_Renamed][i]]\n",
        "\n",
        "df_excess_mortality_expanded_2023"
      ]
    },
    {
      "cell_type": "code",
      "execution_count": 283,
      "metadata": {},
      "outputs": [
        {
          "name": "stdout",
          "output_type": "stream",
          "text": [
            "<class 'pandas.core.frame.DataFrame'>\n",
            "Index: 303 entries, 0 to 302\n",
            "Data columns (total 2 columns):\n",
            " #   Column                 Non-Null Count  Dtype  \n",
            "---  ------                 --------------  -----  \n",
            " 0   Date                   303 non-null    object \n",
            " 1   Excess Mortality UE %  303 non-null    float64\n",
            "dtypes: float64(1), object(1)\n",
            "memory usage: 7.1+ KB\n"
          ]
        }
      ],
      "source": [
        "# To check table info after crop columns and expansion dates\n",
        "df_excess_mortality_expanded_2023.info(verbose=True, show_counts=True)"
      ]
    },
    {
      "cell_type": "markdown",
      "metadata": {},
      "source": [
        "# ***Resume Tables Size***\n"
      ]
    },
    {
      "cell_type": "code",
      "execution_count": 284,
      "metadata": {},
      "outputs": [
        {
          "name": "stdout",
          "output_type": "stream",
          "text": [
            "Rows Ibex 2023 \t\t\t---> \t255\n",
            "Rows IPC 2023 \t\t\t---> \t365\n",
            "Rows Euribor 2023 \t\t---> \t259\n",
            "Rows Gold 2023 \t\t\t---> \t251\n",
            "Rows Brent 2023 \t\t---> \t251\n",
            "Rows USD/Eur 2023 \t\t---> \t260\n",
            "Rows Excess Mortality 2023 \t---> \t303\n"
          ]
        }
      ],
      "source": [
        "row_count_ibex_2023 = len(df_ibex_2023)\n",
        "row_count_ipc_2023 = len(df_ipc_2023_expanded)\n",
        "row_count_euribor_2023 = len(df_euribor_2023)\n",
        "row_count_gold_2023 = len(df_gold_2023)\n",
        "row_count_brent_2023 = len(df_brent_2023)\n",
        "row_count_dolareu_2023 = len(df_dolar_euro_2023)\n",
        "row_count_mort_2023 = len(df_excess_mortality_expanded_2023)\n",
        "\n",
        "print ('Rows Ibex 2023 \\t\\t\\t---> \\t' + str(row_count_ibex_2023))\n",
        "print ('Rows IPC 2023 \\t\\t\\t---> \\t' + str(row_count_ipc_2023))\n",
        "print ('Rows Euribor 2023 \\t\\t---> \\t' + str(row_count_euribor_2023))\n",
        "print ('Rows Gold 2023 \\t\\t\\t---> \\t' + str(row_count_gold_2023))\n",
        "print ('Rows Brent 2023 \\t\\t---> \\t' + str(row_count_brent_2023))\n",
        "print ('Rows USD/Eur 2023 \\t\\t---> \\t' + str(row_count_dolareu_2023))\n",
        "print ('Rows Excess Mortality 2023 \\t---> \\t' + str(row_count_mort_2023))\n"
      ]
    },
    {
      "cell_type": "markdown",
      "metadata": {
        "id": "YBk0K8UazCQ_"
      },
      "source": [
        "# ***Merge Tables IPC & Ibex 2023***"
      ]
    },
    {
      "cell_type": "code",
      "execution_count": 285,
      "metadata": {
        "colab": {
          "base_uri": "https://localhost:8080/",
          "height": 669
        },
        "id": "bSqiaUsPYTtu",
        "outputId": "fe22bcec-0b9b-4e5a-d17f-1c1ec99b6698"
      },
      "outputs": [
        {
          "data": {
            "text/html": [
              "<pre>&lt;class 'pandas.core.frame.DataFrame'&gt;\n",
              "RangeIndex: 255 entries, 0 to 254\n",
              "Columns: 10 entries, Date to IPC Month Variation %\n",
              "dtypes: float64(8), int64(1), object(1)\n",
              "memory usage: 20.1+ KB\n",
              "</pre>"
            ],
            "text/plain": [
              "<class 'pandas.core.frame.DataFrame'>\n",
              "RangeIndex: 255 entries, 0 to 254\n",
              "Columns: 10 entries, Date to IPC Month Variation %\n",
              "dtypes: float64(8), int64(1), object(1)\n",
              "memory usage: 20.1+ KB"
            ]
          },
          "execution_count": 285,
          "metadata": {},
          "output_type": "execute_result"
        }
      ],
      "source": [
        "# Now in our 2023 Study we will merge ipc and ibex table information with same format dates and same column name in this case\n",
        "dfm_ibex_ipc_2023 = df_ibex_2023.merge(df_ipc_2023_expanded, on=\"Date\")\n",
        "dfm_ibex_ipc_2023\n"
      ]
    },
    {
      "cell_type": "code",
      "execution_count": 286,
      "metadata": {},
      "outputs": [
        {
          "data": {
            "text/plain": [
              "False    255\n",
              "Name: count, dtype: int64"
            ]
          },
          "execution_count": 286,
          "metadata": {},
          "output_type": "execute_result"
        }
      ],
      "source": [
        "# We check if result merged series has duplicated rows\n",
        "dfm_ibex_ipc_2023.duplicated(keep=False).value_counts()"
      ]
    },
    {
      "cell_type": "markdown",
      "metadata": {
        "id": "1Me4ZjCjuObw"
      },
      "source": [
        "# ***Merge Tables IPC & Ibex & Euribor 2023***"
      ]
    },
    {
      "cell_type": "code",
      "execution_count": 287,
      "metadata": {
        "colab": {
          "base_uri": "https://localhost:8080/",
          "height": 669
        },
        "id": "2nk9k9dMLPOQ",
        "outputId": "16c510da-aac8-40da-8f49-66ee1538eec2"
      },
      "outputs": [
        {
          "data": {
            "text/html": [
              "<pre>&lt;class 'pandas.core.frame.DataFrame'&gt;\n",
              "RangeIndex: 259 entries, 0 to 258\n",
              "Columns: 11 entries, Date to Euribor Type\n",
              "dtypes: float64(9), int64(1), object(1)\n",
              "memory usage: 22.4+ KB\n",
              "</pre>"
            ],
            "text/plain": [
              "<class 'pandas.core.frame.DataFrame'>\n",
              "RangeIndex: 259 entries, 0 to 258\n",
              "Columns: 11 entries, Date to Euribor Type\n",
              "dtypes: float64(9), int64(1), object(1)\n",
              "memory usage: 22.4+ KB"
            ]
          },
          "execution_count": 287,
          "metadata": {},
          "output_type": "execute_result"
        }
      ],
      "source": [
        "# Merge tables\n",
        "dfm_ibex_ipc_euribor_2023 = dfm_ibex_ipc_2023.merge(df_euribor_2023, on=\"Date\")\n",
        "dfm_ibex_ipc_euribor_2023"
      ]
    },
    {
      "cell_type": "code",
      "execution_count": 288,
      "metadata": {},
      "outputs": [
        {
          "data": {
            "text/plain": [
              "False    251\n",
              "True       8\n",
              "Name: count, dtype: int64"
            ]
          },
          "execution_count": 288,
          "metadata": {},
          "output_type": "execute_result"
        }
      ],
      "source": [
        "# We check if result merged series has duplicated rows\n",
        "dfm_ibex_ipc_euribor_2023.duplicated(keep=False).value_counts()"
      ]
    },
    {
      "cell_type": "code",
      "execution_count": 289,
      "metadata": {},
      "outputs": [
        {
          "data": {
            "text/html": [
              "<pre>&lt;class 'pandas.core.frame.DataFrame'&gt;\n",
              "RangeIndex: 255 entries, 0 to 254\n",
              "Columns: 11 entries, Date to Euribor Type\n",
              "dtypes: float64(9), int64(1), object(1)\n",
              "memory usage: 22.0+ KB\n",
              "</pre>"
            ],
            "text/plain": [
              "<class 'pandas.core.frame.DataFrame'>\n",
              "RangeIndex: 255 entries, 0 to 254\n",
              "Columns: 11 entries, Date to Euribor Type\n",
              "dtypes: float64(9), int64(1), object(1)\n",
              "memory usage: 22.0+ KB"
            ]
          },
          "execution_count": 289,
          "metadata": {},
          "output_type": "execute_result"
        }
      ],
      "source": [
        "# 8 rows duplicated after merge tables, we need to drop them, its important ignore index otherwise deleted rows will lost that indexes\n",
        "dfm_ibex_ipc_euribor_2023_dropped = dfm_ibex_ipc_euribor_2023.drop_duplicates(subset=[\"Date\"], ignore_index=True)\n",
        "dfm_ibex_ipc_euribor_2023_dropped"
      ]
    },
    {
      "cell_type": "markdown",
      "metadata": {
        "id": "Ih2LHT7jLPmG"
      },
      "source": [
        "# ***Merge Tables IPC & Ibex & Gold 2023***"
      ]
    },
    {
      "cell_type": "code",
      "execution_count": 290,
      "metadata": {
        "colab": {
          "base_uri": "https://localhost:8080/",
          "height": 669
        },
        "id": "wOqtQysYQ9FQ",
        "outputId": "11c35a22-4389-458a-89ee-2b0908ca569e"
      },
      "outputs": [
        {
          "data": {
            "text/html": [
              "<pre>&lt;class 'pandas.core.frame.DataFrame'&gt;\n",
              "RangeIndex: 218 entries, 0 to 217\n",
              "Columns: 17 entries, Date to Gold Volume\n",
              "dtypes: float64(14), int64(2), object(1)\n",
              "memory usage: 29.1+ KB\n",
              "</pre>"
            ],
            "text/plain": [
              "<class 'pandas.core.frame.DataFrame'>\n",
              "RangeIndex: 218 entries, 0 to 217\n",
              "Columns: 17 entries, Date to Gold Volume\n",
              "dtypes: float64(14), int64(2), object(1)\n",
              "memory usage: 29.1+ KB"
            ]
          },
          "execution_count": 290,
          "metadata": {},
          "output_type": "execute_result"
        }
      ],
      "source": [
        "# Merge tables\n",
        "dfm_ibex_ipc_euribor_gold_2023 = dfm_ibex_ipc_euribor_2023_dropped.merge(df_gold_2023, on=\"Date\")\n",
        "dfm_ibex_ipc_euribor_gold_2023"
      ]
    },
    {
      "cell_type": "code",
      "execution_count": 291,
      "metadata": {},
      "outputs": [
        {
          "data": {
            "text/plain": [
              "False    218\n",
              "Name: count, dtype: int64"
            ]
          },
          "execution_count": 291,
          "metadata": {},
          "output_type": "execute_result"
        }
      ],
      "source": [
        "# We check if result merged series has duplicated rows\n",
        "dfm_ibex_ipc_euribor_gold_2023.duplicated(keep=False).value_counts()"
      ]
    },
    {
      "cell_type": "markdown",
      "metadata": {
        "id": "do8OEEh1LgBH"
      },
      "source": [
        "# ***Merge Tables IPC & Ibex & Gold & Brent 2023***"
      ]
    },
    {
      "cell_type": "code",
      "execution_count": 292,
      "metadata": {
        "colab": {
          "base_uri": "https://localhost:8080/",
          "height": 669
        },
        "id": "9cFX_LEdVvgY",
        "outputId": "a306f790-a397-4079-8094-9ff801fbaed3"
      },
      "outputs": [
        {
          "data": {
            "text/html": [
              "<pre>&lt;class 'pandas.core.frame.DataFrame'&gt;\n",
              "RangeIndex: 218 entries, 0 to 217\n",
              "Columns: 23 entries, Date to Brent Volume\n",
              "dtypes: float64(19), int64(3), object(1)\n",
              "memory usage: 39.3+ KB\n",
              "</pre>"
            ],
            "text/plain": [
              "<class 'pandas.core.frame.DataFrame'>\n",
              "RangeIndex: 218 entries, 0 to 217\n",
              "Columns: 23 entries, Date to Brent Volume\n",
              "dtypes: float64(19), int64(3), object(1)\n",
              "memory usage: 39.3+ KB"
            ]
          },
          "execution_count": 292,
          "metadata": {},
          "output_type": "execute_result"
        }
      ],
      "source": [
        "# Merge tables\n",
        "dfm_ibex_ipc_euribor_gold_brent_2023 = dfm_ibex_ipc_euribor_gold_2023.merge(df_brent_2023, on=\"Date\")\n",
        "dfm_ibex_ipc_euribor_gold_brent_2023"
      ]
    },
    {
      "cell_type": "code",
      "execution_count": 293,
      "metadata": {},
      "outputs": [
        {
          "data": {
            "text/plain": [
              "False    218\n",
              "Name: count, dtype: int64"
            ]
          },
          "execution_count": 293,
          "metadata": {},
          "output_type": "execute_result"
        }
      ],
      "source": [
        "# We check if result merged series has duplicated rows\n",
        "dfm_ibex_ipc_euribor_gold_2023.duplicated(keep=False).value_counts()"
      ]
    },
    {
      "cell_type": "markdown",
      "metadata": {
        "id": "H1ZP4tptLljg"
      },
      "source": [
        "# ***Merge Tables IPC & Ibex & Gold & Brent & Dolar/Euro 2023***"
      ]
    },
    {
      "cell_type": "code",
      "execution_count": 294,
      "metadata": {
        "colab": {
          "base_uri": "https://localhost:8080/",
          "height": 669
        },
        "id": "bep0e7VSY8kw",
        "outputId": "72571a09-511f-4787-b7fd-6811ea2e4f30"
      },
      "outputs": [
        {
          "data": {
            "text/html": [
              "<pre>&lt;class 'pandas.core.frame.DataFrame'&gt;\n",
              "RangeIndex: 218 entries, 0 to 217\n",
              "Columns: 28 entries, Date to Eur-USD Adj Close\n",
              "dtypes: float64(24), int64(3), object(1)\n",
              "memory usage: 47.8+ KB\n",
              "</pre>"
            ],
            "text/plain": [
              "<class 'pandas.core.frame.DataFrame'>\n",
              "RangeIndex: 218 entries, 0 to 217\n",
              "Columns: 28 entries, Date to Eur-USD Adj Close\n",
              "dtypes: float64(24), int64(3), object(1)\n",
              "memory usage: 47.8+ KB"
            ]
          },
          "execution_count": 294,
          "metadata": {},
          "output_type": "execute_result"
        }
      ],
      "source": [
        "# Merge tables\n",
        "dfm_ibex_ipc_euribor_gold_brent_eurUSD_2023 = dfm_ibex_ipc_euribor_gold_brent_2023.merge(df_dolar_euro_2023, on=\"Date\")\n",
        "dfm_ibex_ipc_euribor_gold_brent_eurUSD_2023"
      ]
    },
    {
      "cell_type": "code",
      "execution_count": 295,
      "metadata": {},
      "outputs": [
        {
          "data": {
            "text/plain": [
              "False    218\n",
              "Name: count, dtype: int64"
            ]
          },
          "execution_count": 295,
          "metadata": {},
          "output_type": "execute_result"
        }
      ],
      "source": [
        "# We check if result merged series has duplicated rows\n",
        "dfm_ibex_ipc_euribor_gold_brent_eurUSD_2023.duplicated(keep=False).value_counts()"
      ]
    },
    {
      "cell_type": "markdown",
      "metadata": {
        "id": "9yC2wJ1UhPss"
      },
      "source": [
        "# ***Merge Tables IPC & Ibex & Gold & Brent & Dolar/Euro & Excess Mortality 2023***\n",
        "\n",
        "WARNING: Due to pending January/December 2023 merge will crop both months"
      ]
    },
    {
      "cell_type": "code",
      "execution_count": 299,
      "metadata": {
        "colab": {
          "base_uri": "https://localhost:8080/",
          "height": 1294
        },
        "id": "-1XWbb2yhawF",
        "outputId": "ff0bb53d-fd65-4d5c-f898-103dc8a19c78"
      },
      "outputs": [
        {
          "data": {
            "text/html": [
              "<pre>&lt;class 'pandas.core.frame.DataFrame'&gt;\n",
              "RangeIndex: 179 entries, 0 to 178\n",
              "Columns: 29 entries, Date to Excess Mortality UE %\n",
              "dtypes: float64(25), int64(3), object(1)\n",
              "memory usage: 40.7+ KB\n",
              "</pre>"
            ],
            "text/plain": [
              "<class 'pandas.core.frame.DataFrame'>\n",
              "RangeIndex: 179 entries, 0 to 178\n",
              "Columns: 29 entries, Date to Excess Mortality UE %\n",
              "dtypes: float64(25), int64(3), object(1)\n",
              "memory usage: 40.7+ KB"
            ]
          },
          "execution_count": 299,
          "metadata": {},
          "output_type": "execute_result"
        }
      ],
      "source": [
        "# Merge tables\n",
        "dfm_ibex_ipc_euribor_gold_brent_eurUSD_mortality_2023 = dfm_ibex_ipc_euribor_gold_brent_eurUSD_2023.merge(df_excess_mortality_expanded_2023, on=\"Date\")\n",
        "dfm_ibex_ipc_euribor_gold_brent_eurUSD_mortality_2023"
      ]
    },
    {
      "cell_type": "code",
      "execution_count": 297,
      "metadata": {},
      "outputs": [
        {
          "data": {
            "text/plain": [
              "False    179\n",
              "Name: count, dtype: int64"
            ]
          },
          "execution_count": 297,
          "metadata": {},
          "output_type": "execute_result"
        }
      ],
      "source": [
        "# We check if result merged series has duplicated rows\n",
        "dfm_ibex_ipc_euribor_gold_brent_eurUSD_mortality_2023.duplicated(keep=False).value_counts()"
      ]
    },
    {
      "cell_type": "code",
      "execution_count": 298,
      "metadata": {},
      "outputs": [
        {
          "name": "stdout",
          "output_type": "stream",
          "text": [
            "<class 'pandas.core.frame.DataFrame'>\n",
            "RangeIndex: 179 entries, 0 to 178\n",
            "Data columns (total 29 columns):\n",
            " #   Column                 Dtype  \n",
            "---  ------                 -----  \n",
            " 0   Date                   object \n",
            " 1   Ibex Open              float64\n",
            " 2   Ibex High              float64\n",
            " 3   Ibex Low               float64\n",
            " 4   Ibex Close             float64\n",
            " 5   Ibex Adj Close         float64\n",
            " 6   Ibex Volume            int64  \n",
            " 7   IPC Interanual %       float64\n",
            " 8   IPC Acum Jan %         float64\n",
            " 9   IPC Month Variation %  float64\n",
            " 10  Euribor Type           float64\n",
            " 11  Gold Open              float64\n",
            " 12  Gold High              float64\n",
            " 13  Gold Low               float64\n",
            " 14  Gold Close             float64\n",
            " 15  Gold Adj Close         float64\n",
            " 16  Gold Volume            int64  \n",
            " 17  Brent Open             float64\n",
            " 18  Brent High             float64\n",
            " 19  Brent Low              float64\n",
            " 20  Brent Close            float64\n",
            " 21  Brent Adj Close        float64\n",
            " 22  Brent Volume           int64  \n",
            " 23  Eur-USD Open           float64\n",
            " 24  Eur-USD High           float64\n",
            " 25  Eur-USD Low            float64\n",
            " 26  Eur-USD Close          float64\n",
            " 27  Eur-USD Adj Close      float64\n",
            " 28  Excess Mortality UE %  float64\n",
            "dtypes: float64(25), int64(3), object(1)\n",
            "memory usage: 40.7+ KB\n"
          ]
        }
      ],
      "source": [
        "# Let's check thetypes fields, its important avoid object types, use float or int\n",
        "dfm_ibex_ipc_euribor_gold_brent_eurUSD_mortality_2023.info(verbose=True)"
      ]
    }
  ],
  "metadata": {
    "colab": {
      "history_visible": true,
      "include_colab_link": true,
      "provenance": [],
      "toc_visible": true
    },
    "kernelspec": {
      "display_name": "Python 3",
      "name": "python3"
    },
    "language_info": {
      "codemirror_mode": {
        "name": "ipython",
        "version": 3
      },
      "file_extension": ".py",
      "mimetype": "text/x-python",
      "name": "python",
      "nbconvert_exporter": "python",
      "pygments_lexer": "ipython3",
      "version": "3.12.2"
    }
  },
  "nbformat": 4,
  "nbformat_minor": 0
}
